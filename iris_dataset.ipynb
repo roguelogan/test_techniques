{
 "cells": [
  {
   "cell_type": "markdown",
   "id": "3150a505",
   "metadata": {},
   "source": [
    "### Loading iris datasets"
   ]
  },
  {
   "cell_type": "code",
   "execution_count": 1,
   "id": "e4772518",
   "metadata": {},
   "outputs": [
    {
     "data": {
      "text/plain": [
       "sklearn.utils._bunch.Bunch"
      ]
     },
     "execution_count": 1,
     "metadata": {},
     "output_type": "execute_result"
    }
   ],
   "source": [
    "from sklearn.datasets import load_iris\n",
    "iris = load_iris()\n",
    "type(iris)"
   ]
  },
  {
   "cell_type": "markdown",
   "id": "53e872bf",
   "metadata": {},
   "source": [
    "Iris dataset (and the other datasets) imported from sklearn.datasets module is(are) bunch object of python. A bunch object is a dictionnary like object with additionnal feature: we can access it keys's values in attribute style. "
   ]
  },
  {
   "cell_type": "markdown",
   "id": "56f6e403",
   "metadata": {},
   "source": [
    "### Accessing available keys"
   ]
  },
  {
   "cell_type": "code",
   "execution_count": 2,
   "id": "ab124806",
   "metadata": {},
   "outputs": [
    {
     "data": {
      "text/plain": [
       "dict_keys(['data', 'target', 'frame', 'target_names', 'DESCR', 'feature_names', 'filename', 'data_module'])"
      ]
     },
     "execution_count": 2,
     "metadata": {},
     "output_type": "execute_result"
    }
   ],
   "source": [
    "iris.keys()"
   ]
  },
  {
   "cell_type": "code",
   "execution_count": 3,
   "id": "f2663841",
   "metadata": {},
   "outputs": [
    {
     "name": "stdout",
     "output_type": "stream",
     "text": [
      "['setosa' 'versicolor' 'virginica']\n",
      "['setosa' 'versicolor' 'virginica']\n"
     ]
    }
   ],
   "source": [
    "print(iris['target_names'])   # accessing values with keys\n",
    "print(iris.target_names)      # accessing values with keys in attribute "
   ]
  },
  {
   "cell_type": "code",
   "execution_count": null,
   "id": "bb3a1c8a",
   "metadata": {},
   "outputs": [],
   "source": []
  }
 ],
 "metadata": {
  "kernelspec": {
   "display_name": "Python 3 (ipykernel)",
   "language": "python",
   "name": "python3"
  },
  "language_info": {
   "codemirror_mode": {
    "name": "ipython",
    "version": 3
   },
   "file_extension": ".py",
   "mimetype": "text/x-python",
   "name": "python",
   "nbconvert_exporter": "python",
   "pygments_lexer": "ipython3",
   "version": "3.11.4"
  }
 },
 "nbformat": 4,
 "nbformat_minor": 5
}
