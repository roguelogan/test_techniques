{
 "cells": [
  {
   "cell_type": "markdown",
   "id": "192ce2d0",
   "metadata": {},
   "source": [
    "# Data Munging\n",
    "The term mung is a technical term that was coined about half a century ago by students of\n",
    "at Massachusetts Institute of Technology (MIT). Munging means to change, in a series of\n",
    "well-specified and reversible steps, a piece of original data to a completely different (and\n",
    "hopefully more useful) one.\n",
    "\n",
    "## Data science process\n",
    "process can also be described using the acronym OSEMN (Obtain, Scrub, Explore,\n",
    "Model, iNterpret)\n",
    "\n",
    "<img src= 'OSEMN.png' style= 'width:700px;height:150px'/>\n",
    "\n",
    "## Data loading and preprocessing with pandas\n"
   ]
  },
  {
   "cell_type": "markdown",
   "id": "33e591fa",
   "metadata": {},
   "source": [
    "### fast and easy data loading: read_csv()"
   ]
  },
  {
   "cell_type": "markdown",
   "id": "b6e6e32f",
   "metadata": {},
   "source": [
    "#### Loading data from your computer"
   ]
  },
  {
   "cell_type": "code",
   "execution_count": 1,
   "id": "41f6f288",
   "metadata": {},
   "outputs": [
    {
     "data": {
      "text/html": [
       "<div>\n",
       "<style scoped>\n",
       "    .dataframe tbody tr th:only-of-type {\n",
       "        vertical-align: middle;\n",
       "    }\n",
       "\n",
       "    .dataframe tbody tr th {\n",
       "        vertical-align: top;\n",
       "    }\n",
       "\n",
       "    .dataframe thead th {\n",
       "        text-align: right;\n",
       "    }\n",
       "</style>\n",
       "<table border=\"1\" class=\"dataframe\">\n",
       "  <thead>\n",
       "    <tr style=\"text-align: right;\">\n",
       "      <th></th>\n",
       "      <th>sepal_length</th>\n",
       "      <th>sepal_width</th>\n",
       "      <th>petal_length</th>\n",
       "      <th>petal_width</th>\n",
       "      <th>target</th>\n",
       "    </tr>\n",
       "  </thead>\n",
       "  <tbody>\n",
       "    <tr>\n",
       "      <th>0</th>\n",
       "      <td>5.1</td>\n",
       "      <td>3.5</td>\n",
       "      <td>1.4</td>\n",
       "      <td>0.2</td>\n",
       "      <td>Iris-setosa</td>\n",
       "    </tr>\n",
       "    <tr>\n",
       "      <th>1</th>\n",
       "      <td>4.9</td>\n",
       "      <td>3.0</td>\n",
       "      <td>1.4</td>\n",
       "      <td>0.2</td>\n",
       "      <td>Iris-setosa</td>\n",
       "    </tr>\n",
       "    <tr>\n",
       "      <th>2</th>\n",
       "      <td>4.7</td>\n",
       "      <td>3.2</td>\n",
       "      <td>1.3</td>\n",
       "      <td>0.2</td>\n",
       "      <td>Iris-setosa</td>\n",
       "    </tr>\n",
       "    <tr>\n",
       "      <th>3</th>\n",
       "      <td>4.6</td>\n",
       "      <td>3.1</td>\n",
       "      <td>1.5</td>\n",
       "      <td>0.2</td>\n",
       "      <td>Iris-setosa</td>\n",
       "    </tr>\n",
       "    <tr>\n",
       "      <th>4</th>\n",
       "      <td>5.0</td>\n",
       "      <td>3.6</td>\n",
       "      <td>1.4</td>\n",
       "      <td>0.2</td>\n",
       "      <td>Iris-setosa</td>\n",
       "    </tr>\n",
       "  </tbody>\n",
       "</table>\n",
       "</div>"
      ],
      "text/plain": [
       "   sepal_length  sepal_width  petal_length  petal_width       target\n",
       "0           5.1          3.5           1.4          0.2  Iris-setosa\n",
       "1           4.9          3.0           1.4          0.2  Iris-setosa\n",
       "2           4.7          3.2           1.3          0.2  Iris-setosa\n",
       "3           4.6          3.1           1.5          0.2  Iris-setosa\n",
       "4           5.0          3.6           1.4          0.2  Iris-setosa"
      ]
     },
     "execution_count": 1,
     "metadata": {},
     "output_type": "execute_result"
    }
   ],
   "source": [
    "import pandas as pd\n",
    "iris_dataname = \"iris/iris.data\"\n",
    "iris_df = pd.read_csv(iris_dataname, sep=',', decimal='.', header=None,\n",
    "names = ['sepal_length','sepal_width','petal_length','petal_width','target']) # iris_df here is a pandas dataframe\n",
    "iris_df.head()  # to print the first 5 rows of the dataframe"
   ]
  },
  {
   "cell_type": "markdown",
   "id": "c670dd9b",
   "metadata": {},
   "source": [
    "#### Loading data from internet network"
   ]
  },
  {
   "cell_type": "code",
   "execution_count": 2,
   "id": "5df6a06f",
   "metadata": {},
   "outputs": [],
   "source": [
    "#import urllib\n",
    "#url = \n",
    "#set1 = urllib.request.Request(url)\n",
    "#iris_p = urllib.request.urlopen(set1)\n",
    "#iris_other = pd.read_csv(iris_p, sep=',', decimal='.',\n",
    "#header=None, names= ['sepal_length', 'sepal_width',\n",
    "#petal_length', 'petal_width',\n",
    "#'target'])\n",
    "#iris_other.head()"
   ]
  },
  {
   "cell_type": "markdown",
   "id": "1f7fd777",
   "metadata": {},
   "source": [
    "#### Print the first rows\n",
    "\n",
    "By default case it prints only the first five rows of the dataframe. you can specify the number of first rows you want to see in the parenthesis of the head() method. "
   ]
  },
  {
   "cell_type": "code",
   "execution_count": 3,
   "id": "af810be5",
   "metadata": {},
   "outputs": [
    {
     "data": {
      "text/html": [
       "<div>\n",
       "<style scoped>\n",
       "    .dataframe tbody tr th:only-of-type {\n",
       "        vertical-align: middle;\n",
       "    }\n",
       "\n",
       "    .dataframe tbody tr th {\n",
       "        vertical-align: top;\n",
       "    }\n",
       "\n",
       "    .dataframe thead th {\n",
       "        text-align: right;\n",
       "    }\n",
       "</style>\n",
       "<table border=\"1\" class=\"dataframe\">\n",
       "  <thead>\n",
       "    <tr style=\"text-align: right;\">\n",
       "      <th></th>\n",
       "      <th>sepal_length</th>\n",
       "      <th>sepal_width</th>\n",
       "      <th>petal_length</th>\n",
       "      <th>petal_width</th>\n",
       "      <th>target</th>\n",
       "    </tr>\n",
       "  </thead>\n",
       "  <tbody>\n",
       "    <tr>\n",
       "      <th>0</th>\n",
       "      <td>5.1</td>\n",
       "      <td>3.5</td>\n",
       "      <td>1.4</td>\n",
       "      <td>0.2</td>\n",
       "      <td>Iris-setosa</td>\n",
       "    </tr>\n",
       "    <tr>\n",
       "      <th>1</th>\n",
       "      <td>4.9</td>\n",
       "      <td>3.0</td>\n",
       "      <td>1.4</td>\n",
       "      <td>0.2</td>\n",
       "      <td>Iris-setosa</td>\n",
       "    </tr>\n",
       "    <tr>\n",
       "      <th>2</th>\n",
       "      <td>4.7</td>\n",
       "      <td>3.2</td>\n",
       "      <td>1.3</td>\n",
       "      <td>0.2</td>\n",
       "      <td>Iris-setosa</td>\n",
       "    </tr>\n",
       "    <tr>\n",
       "      <th>3</th>\n",
       "      <td>4.6</td>\n",
       "      <td>3.1</td>\n",
       "      <td>1.5</td>\n",
       "      <td>0.2</td>\n",
       "      <td>Iris-setosa</td>\n",
       "    </tr>\n",
       "    <tr>\n",
       "      <th>4</th>\n",
       "      <td>5.0</td>\n",
       "      <td>3.6</td>\n",
       "      <td>1.4</td>\n",
       "      <td>0.2</td>\n",
       "      <td>Iris-setosa</td>\n",
       "    </tr>\n",
       "  </tbody>\n",
       "</table>\n",
       "</div>"
      ],
      "text/plain": [
       "   sepal_length  sepal_width  petal_length  petal_width       target\n",
       "0           5.1          3.5           1.4          0.2  Iris-setosa\n",
       "1           4.9          3.0           1.4          0.2  Iris-setosa\n",
       "2           4.7          3.2           1.3          0.2  Iris-setosa\n",
       "3           4.6          3.1           1.5          0.2  Iris-setosa\n",
       "4           5.0          3.6           1.4          0.2  Iris-setosa"
      ]
     },
     "execution_count": 3,
     "metadata": {},
     "output_type": "execute_result"
    }
   ],
   "source": [
    "iris_df.head() # default case"
   ]
  },
  {
   "cell_type": "code",
   "execution_count": 4,
   "id": "35912b3f",
   "metadata": {},
   "outputs": [
    {
     "data": {
      "text/html": [
       "<div>\n",
       "<style scoped>\n",
       "    .dataframe tbody tr th:only-of-type {\n",
       "        vertical-align: middle;\n",
       "    }\n",
       "\n",
       "    .dataframe tbody tr th {\n",
       "        vertical-align: top;\n",
       "    }\n",
       "\n",
       "    .dataframe thead th {\n",
       "        text-align: right;\n",
       "    }\n",
       "</style>\n",
       "<table border=\"1\" class=\"dataframe\">\n",
       "  <thead>\n",
       "    <tr style=\"text-align: right;\">\n",
       "      <th></th>\n",
       "      <th>sepal_length</th>\n",
       "      <th>sepal_width</th>\n",
       "      <th>petal_length</th>\n",
       "      <th>petal_width</th>\n",
       "      <th>target</th>\n",
       "    </tr>\n",
       "  </thead>\n",
       "  <tbody>\n",
       "    <tr>\n",
       "      <th>0</th>\n",
       "      <td>5.1</td>\n",
       "      <td>3.5</td>\n",
       "      <td>1.4</td>\n",
       "      <td>0.2</td>\n",
       "      <td>Iris-setosa</td>\n",
       "    </tr>\n",
       "    <tr>\n",
       "      <th>1</th>\n",
       "      <td>4.9</td>\n",
       "      <td>3.0</td>\n",
       "      <td>1.4</td>\n",
       "      <td>0.2</td>\n",
       "      <td>Iris-setosa</td>\n",
       "    </tr>\n",
       "    <tr>\n",
       "      <th>2</th>\n",
       "      <td>4.7</td>\n",
       "      <td>3.2</td>\n",
       "      <td>1.3</td>\n",
       "      <td>0.2</td>\n",
       "      <td>Iris-setosa</td>\n",
       "    </tr>\n",
       "    <tr>\n",
       "      <th>3</th>\n",
       "      <td>4.6</td>\n",
       "      <td>3.1</td>\n",
       "      <td>1.5</td>\n",
       "      <td>0.2</td>\n",
       "      <td>Iris-setosa</td>\n",
       "    </tr>\n",
       "  </tbody>\n",
       "</table>\n",
       "</div>"
      ],
      "text/plain": [
       "   sepal_length  sepal_width  petal_length  petal_width       target\n",
       "0           5.1          3.5           1.4          0.2  Iris-setosa\n",
       "1           4.9          3.0           1.4          0.2  Iris-setosa\n",
       "2           4.7          3.2           1.3          0.2  Iris-setosa\n",
       "3           4.6          3.1           1.5          0.2  Iris-setosa"
      ]
     },
     "execution_count": 4,
     "metadata": {},
     "output_type": "execute_result"
    }
   ],
   "source": [
    "iris_df.head(4) # 04 first rows "
   ]
  },
  {
   "cell_type": "markdown",
   "id": "d5e38162",
   "metadata": {},
   "source": [
    "#### Get the last rows "
   ]
  },
  {
   "cell_type": "code",
   "execution_count": 5,
   "id": "6ff8e1e1",
   "metadata": {},
   "outputs": [
    {
     "data": {
      "text/html": [
       "<div>\n",
       "<style scoped>\n",
       "    .dataframe tbody tr th:only-of-type {\n",
       "        vertical-align: middle;\n",
       "    }\n",
       "\n",
       "    .dataframe tbody tr th {\n",
       "        vertical-align: top;\n",
       "    }\n",
       "\n",
       "    .dataframe thead th {\n",
       "        text-align: right;\n",
       "    }\n",
       "</style>\n",
       "<table border=\"1\" class=\"dataframe\">\n",
       "  <thead>\n",
       "    <tr style=\"text-align: right;\">\n",
       "      <th></th>\n",
       "      <th>sepal_length</th>\n",
       "      <th>sepal_width</th>\n",
       "      <th>petal_length</th>\n",
       "      <th>petal_width</th>\n",
       "      <th>target</th>\n",
       "    </tr>\n",
       "  </thead>\n",
       "  <tbody>\n",
       "    <tr>\n",
       "      <th>145</th>\n",
       "      <td>6.7</td>\n",
       "      <td>3.0</td>\n",
       "      <td>5.2</td>\n",
       "      <td>2.3</td>\n",
       "      <td>Iris-virginica</td>\n",
       "    </tr>\n",
       "    <tr>\n",
       "      <th>146</th>\n",
       "      <td>6.3</td>\n",
       "      <td>2.5</td>\n",
       "      <td>5.0</td>\n",
       "      <td>1.9</td>\n",
       "      <td>Iris-virginica</td>\n",
       "    </tr>\n",
       "    <tr>\n",
       "      <th>147</th>\n",
       "      <td>6.5</td>\n",
       "      <td>3.0</td>\n",
       "      <td>5.2</td>\n",
       "      <td>2.0</td>\n",
       "      <td>Iris-virginica</td>\n",
       "    </tr>\n",
       "    <tr>\n",
       "      <th>148</th>\n",
       "      <td>6.2</td>\n",
       "      <td>3.4</td>\n",
       "      <td>5.4</td>\n",
       "      <td>2.3</td>\n",
       "      <td>Iris-virginica</td>\n",
       "    </tr>\n",
       "    <tr>\n",
       "      <th>149</th>\n",
       "      <td>5.9</td>\n",
       "      <td>3.0</td>\n",
       "      <td>5.1</td>\n",
       "      <td>1.8</td>\n",
       "      <td>Iris-virginica</td>\n",
       "    </tr>\n",
       "  </tbody>\n",
       "</table>\n",
       "</div>"
      ],
      "text/plain": [
       "     sepal_length  sepal_width  petal_length  petal_width          target\n",
       "145           6.7          3.0           5.2          2.3  Iris-virginica\n",
       "146           6.3          2.5           5.0          1.9  Iris-virginica\n",
       "147           6.5          3.0           5.2          2.0  Iris-virginica\n",
       "148           6.2          3.4           5.4          2.3  Iris-virginica\n",
       "149           5.9          3.0           5.1          1.8  Iris-virginica"
      ]
     },
     "execution_count": 5,
     "metadata": {},
     "output_type": "execute_result"
    }
   ],
   "source": [
    "iris_df.tail() # default case: 5 last rows"
   ]
  },
  {
   "cell_type": "code",
   "execution_count": 6,
   "id": "2a02c042",
   "metadata": {},
   "outputs": [
    {
     "data": {
      "text/html": [
       "<div>\n",
       "<style scoped>\n",
       "    .dataframe tbody tr th:only-of-type {\n",
       "        vertical-align: middle;\n",
       "    }\n",
       "\n",
       "    .dataframe tbody tr th {\n",
       "        vertical-align: top;\n",
       "    }\n",
       "\n",
       "    .dataframe thead th {\n",
       "        text-align: right;\n",
       "    }\n",
       "</style>\n",
       "<table border=\"1\" class=\"dataframe\">\n",
       "  <thead>\n",
       "    <tr style=\"text-align: right;\">\n",
       "      <th></th>\n",
       "      <th>sepal_length</th>\n",
       "      <th>sepal_width</th>\n",
       "      <th>petal_length</th>\n",
       "      <th>petal_width</th>\n",
       "      <th>target</th>\n",
       "    </tr>\n",
       "  </thead>\n",
       "  <tbody>\n",
       "    <tr>\n",
       "      <th>140</th>\n",
       "      <td>6.7</td>\n",
       "      <td>3.1</td>\n",
       "      <td>5.6</td>\n",
       "      <td>2.4</td>\n",
       "      <td>Iris-virginica</td>\n",
       "    </tr>\n",
       "    <tr>\n",
       "      <th>141</th>\n",
       "      <td>6.9</td>\n",
       "      <td>3.1</td>\n",
       "      <td>5.1</td>\n",
       "      <td>2.3</td>\n",
       "      <td>Iris-virginica</td>\n",
       "    </tr>\n",
       "    <tr>\n",
       "      <th>142</th>\n",
       "      <td>5.8</td>\n",
       "      <td>2.7</td>\n",
       "      <td>5.1</td>\n",
       "      <td>1.9</td>\n",
       "      <td>Iris-virginica</td>\n",
       "    </tr>\n",
       "    <tr>\n",
       "      <th>143</th>\n",
       "      <td>6.8</td>\n",
       "      <td>3.2</td>\n",
       "      <td>5.9</td>\n",
       "      <td>2.3</td>\n",
       "      <td>Iris-virginica</td>\n",
       "    </tr>\n",
       "    <tr>\n",
       "      <th>144</th>\n",
       "      <td>6.7</td>\n",
       "      <td>3.3</td>\n",
       "      <td>5.7</td>\n",
       "      <td>2.5</td>\n",
       "      <td>Iris-virginica</td>\n",
       "    </tr>\n",
       "    <tr>\n",
       "      <th>145</th>\n",
       "      <td>6.7</td>\n",
       "      <td>3.0</td>\n",
       "      <td>5.2</td>\n",
       "      <td>2.3</td>\n",
       "      <td>Iris-virginica</td>\n",
       "    </tr>\n",
       "    <tr>\n",
       "      <th>146</th>\n",
       "      <td>6.3</td>\n",
       "      <td>2.5</td>\n",
       "      <td>5.0</td>\n",
       "      <td>1.9</td>\n",
       "      <td>Iris-virginica</td>\n",
       "    </tr>\n",
       "    <tr>\n",
       "      <th>147</th>\n",
       "      <td>6.5</td>\n",
       "      <td>3.0</td>\n",
       "      <td>5.2</td>\n",
       "      <td>2.0</td>\n",
       "      <td>Iris-virginica</td>\n",
       "    </tr>\n",
       "    <tr>\n",
       "      <th>148</th>\n",
       "      <td>6.2</td>\n",
       "      <td>3.4</td>\n",
       "      <td>5.4</td>\n",
       "      <td>2.3</td>\n",
       "      <td>Iris-virginica</td>\n",
       "    </tr>\n",
       "    <tr>\n",
       "      <th>149</th>\n",
       "      <td>5.9</td>\n",
       "      <td>3.0</td>\n",
       "      <td>5.1</td>\n",
       "      <td>1.8</td>\n",
       "      <td>Iris-virginica</td>\n",
       "    </tr>\n",
       "  </tbody>\n",
       "</table>\n",
       "</div>"
      ],
      "text/plain": [
       "     sepal_length  sepal_width  petal_length  petal_width          target\n",
       "140           6.7          3.1           5.6          2.4  Iris-virginica\n",
       "141           6.9          3.1           5.1          2.3  Iris-virginica\n",
       "142           5.8          2.7           5.1          1.9  Iris-virginica\n",
       "143           6.8          3.2           5.9          2.3  Iris-virginica\n",
       "144           6.7          3.3           5.7          2.5  Iris-virginica\n",
       "145           6.7          3.0           5.2          2.3  Iris-virginica\n",
       "146           6.3          2.5           5.0          1.9  Iris-virginica\n",
       "147           6.5          3.0           5.2          2.0  Iris-virginica\n",
       "148           6.2          3.4           5.4          2.3  Iris-virginica\n",
       "149           5.9          3.0           5.1          1.8  Iris-virginica"
      ]
     },
     "execution_count": 6,
     "metadata": {},
     "output_type": "execute_result"
    }
   ],
   "source": [
    "iris_df.tail(10) # last 10 rows"
   ]
  },
  {
   "cell_type": "markdown",
   "id": "5f9e004a",
   "metadata": {},
   "source": [
    "####  Get  all column names of the dataframe "
   ]
  },
  {
   "cell_type": "code",
   "execution_count": 7,
   "id": "a67682c6",
   "metadata": {},
   "outputs": [
    {
     "name": "stdout",
     "output_type": "stream",
     "text": [
      "Index(['sepal_length', 'sepal_width', 'petal_length', 'petal_width', 'target'], dtype='object')\n",
      "<class 'pandas.core.indexes.base.Index'>\n"
     ]
    }
   ],
   "source": [
    "iris_column_names = iris_df.columns\n",
    "print(iris_column_names)\n",
    "print(type(iris_column_names)) # the result is a pandas index not a list."
   ]
  },
  {
   "cell_type": "markdown",
   "id": "5685310f",
   "metadata": {},
   "source": [
    "#### Extract columns  by their indexes as series"
   ]
  },
  {
   "cell_type": "code",
   "execution_count": 8,
   "id": "1fa7785c",
   "metadata": {},
   "outputs": [
    {
     "name": "stdout",
     "output_type": "stream",
     "text": [
      "<class 'pandas.core.series.Series'>\n"
     ]
    },
    {
     "data": {
      "text/plain": [
       "0         Iris-setosa\n",
       "1         Iris-setosa\n",
       "2         Iris-setosa\n",
       "3         Iris-setosa\n",
       "4         Iris-setosa\n",
       "            ...      \n",
       "145    Iris-virginica\n",
       "146    Iris-virginica\n",
       "147    Iris-virginica\n",
       "148    Iris-virginica\n",
       "149    Iris-virginica\n",
       "Name: target, Length: 150, dtype: object"
      ]
     },
     "execution_count": 8,
     "metadata": {},
     "output_type": "execute_result"
    }
   ],
   "source": [
    "y = iris_df['target'] # access a column in pandas series form\n",
    "print(type(y))    # y is of type of pandas series \n",
    "y"
   ]
  },
  {
   "cell_type": "code",
   "execution_count": 9,
   "id": "9c8fd5fa",
   "metadata": {},
   "outputs": [
    {
     "data": {
      "text/plain": [
       "0         Iris-setosa\n",
       "1         Iris-setosa\n",
       "2         Iris-setosa\n",
       "3         Iris-setosa\n",
       "4         Iris-setosa\n",
       "            ...      \n",
       "145    Iris-virginica\n",
       "146    Iris-virginica\n",
       "147    Iris-virginica\n",
       "148    Iris-virginica\n",
       "149    Iris-virginica\n",
       "Name: target, Length: 150, dtype: object"
      ]
     },
     "execution_count": 9,
     "metadata": {},
     "output_type": "execute_result"
    }
   ],
   "source": [
    "z = iris_df.target\n",
    "z"
   ]
  },
  {
   "cell_type": "markdown",
   "id": "c1f3ba9f",
   "metadata": {},
   "source": [
    "#### Extract columns  by their indexes as DataFrame"
   ]
  },
  {
   "cell_type": "code",
   "execution_count": 10,
   "id": "d189b110",
   "metadata": {},
   "outputs": [
    {
     "data": {
      "text/html": [
       "<div>\n",
       "<style scoped>\n",
       "    .dataframe tbody tr th:only-of-type {\n",
       "        vertical-align: middle;\n",
       "    }\n",
       "\n",
       "    .dataframe tbody tr th {\n",
       "        vertical-align: top;\n",
       "    }\n",
       "\n",
       "    .dataframe thead th {\n",
       "        text-align: right;\n",
       "    }\n",
       "</style>\n",
       "<table border=\"1\" class=\"dataframe\">\n",
       "  <thead>\n",
       "    <tr style=\"text-align: right;\">\n",
       "      <th></th>\n",
       "      <th>sepal_length</th>\n",
       "      <th>petal_length</th>\n",
       "    </tr>\n",
       "  </thead>\n",
       "  <tbody>\n",
       "    <tr>\n",
       "      <th>0</th>\n",
       "      <td>5.1</td>\n",
       "      <td>1.4</td>\n",
       "    </tr>\n",
       "    <tr>\n",
       "      <th>1</th>\n",
       "      <td>4.9</td>\n",
       "      <td>1.4</td>\n",
       "    </tr>\n",
       "    <tr>\n",
       "      <th>2</th>\n",
       "      <td>4.7</td>\n",
       "      <td>1.3</td>\n",
       "    </tr>\n",
       "    <tr>\n",
       "      <th>3</th>\n",
       "      <td>4.6</td>\n",
       "      <td>1.5</td>\n",
       "    </tr>\n",
       "    <tr>\n",
       "      <th>4</th>\n",
       "      <td>5.0</td>\n",
       "      <td>1.4</td>\n",
       "    </tr>\n",
       "    <tr>\n",
       "      <th>...</th>\n",
       "      <td>...</td>\n",
       "      <td>...</td>\n",
       "    </tr>\n",
       "    <tr>\n",
       "      <th>145</th>\n",
       "      <td>6.7</td>\n",
       "      <td>5.2</td>\n",
       "    </tr>\n",
       "    <tr>\n",
       "      <th>146</th>\n",
       "      <td>6.3</td>\n",
       "      <td>5.0</td>\n",
       "    </tr>\n",
       "    <tr>\n",
       "      <th>147</th>\n",
       "      <td>6.5</td>\n",
       "      <td>5.2</td>\n",
       "    </tr>\n",
       "    <tr>\n",
       "      <th>148</th>\n",
       "      <td>6.2</td>\n",
       "      <td>5.4</td>\n",
       "    </tr>\n",
       "    <tr>\n",
       "      <th>149</th>\n",
       "      <td>5.9</td>\n",
       "      <td>5.1</td>\n",
       "    </tr>\n",
       "  </tbody>\n",
       "</table>\n",
       "<p>150 rows × 2 columns</p>\n",
       "</div>"
      ],
      "text/plain": [
       "     sepal_length  petal_length\n",
       "0             5.1           1.4\n",
       "1             4.9           1.4\n",
       "2             4.7           1.3\n",
       "3             4.6           1.5\n",
       "4             5.0           1.4\n",
       "..            ...           ...\n",
       "145           6.7           5.2\n",
       "146           6.3           5.0\n",
       "147           6.5           5.2\n",
       "148           6.2           5.4\n",
       "149           5.9           5.1\n",
       "\n",
       "[150 rows x 2 columns]"
      ]
     },
     "execution_count": 10,
     "metadata": {},
     "output_type": "execute_result"
    }
   ],
   "source": [
    "X = iris_df[['sepal_length','petal_length']]\n",
    "X"
   ]
  },
  {
   "cell_type": "code",
   "execution_count": 11,
   "id": "61eda6c9",
   "metadata": {},
   "outputs": [
    {
     "name": "stdout",
     "output_type": "stream",
     "text": [
      "<class 'pandas.core.frame.DataFrame'>\n"
     ]
    }
   ],
   "source": [
    "print(type(X)) # X is of type of Pandas DataFrame"
   ]
  },
  {
   "cell_type": "markdown",
   "id": "108fbec7",
   "metadata": {},
   "source": [
    "#### Get the dimension of a DataFrame or serie"
   ]
  },
  {
   "cell_type": "code",
   "execution_count": 12,
   "id": "54e6f08d",
   "metadata": {},
   "outputs": [
    {
     "name": "stdout",
     "output_type": "stream",
     "text": [
      "(150, 5)\n"
     ]
    }
   ],
   "source": [
    "print(iris_df.shape)"
   ]
  },
  {
   "cell_type": "code",
   "execution_count": 13,
   "id": "a11ea904",
   "metadata": {},
   "outputs": [
    {
     "name": "stdout",
     "output_type": "stream",
     "text": [
      "(150, 2)\n"
     ]
    }
   ],
   "source": [
    "print(X.shape)"
   ]
  },
  {
   "cell_type": "code",
   "execution_count": 14,
   "id": "d89b9e3b",
   "metadata": {},
   "outputs": [
    {
     "name": "stdout",
     "output_type": "stream",
     "text": [
      "(150,)\n"
     ]
    }
   ],
   "source": [
    "print(y.shape)"
   ]
  },
  {
   "cell_type": "code",
   "execution_count": 15,
   "id": "8372b149",
   "metadata": {},
   "outputs": [
    {
     "data": {
      "text/plain": [
       "0      3.5\n",
       "1      3.0\n",
       "2      3.2\n",
       "3      3.1\n",
       "4      3.6\n",
       "      ... \n",
       "145    3.0\n",
       "146    2.5\n",
       "147    3.0\n",
       "148    3.4\n",
       "149    3.0\n",
       "Name: sepal_width, Length: 150, dtype: float64"
      ]
     },
     "execution_count": 15,
     "metadata": {},
     "output_type": "execute_result"
    }
   ],
   "source": [
    "iris_df.sepal_width"
   ]
  },
  {
   "cell_type": "markdown",
   "id": "1fbc952e",
   "metadata": {},
   "source": [
    "## Dealing with Problematic data"
   ]
  },
  {
   "cell_type": "code",
   "execution_count": 16,
   "id": "cff5fc82",
   "metadata": {},
   "outputs": [
    {
     "data": {
      "text/html": [
       "<div>\n",
       "<style scoped>\n",
       "    .dataframe tbody tr th:only-of-type {\n",
       "        vertical-align: middle;\n",
       "    }\n",
       "\n",
       "    .dataframe tbody tr th {\n",
       "        vertical-align: top;\n",
       "    }\n",
       "\n",
       "    .dataframe thead th {\n",
       "        text-align: right;\n",
       "    }\n",
       "</style>\n",
       "<table border=\"1\" class=\"dataframe\">\n",
       "  <thead>\n",
       "    <tr style=\"text-align: right;\">\n",
       "      <th></th>\n",
       "      <th>Date</th>\n",
       "      <th>Temperature_city_1</th>\n",
       "      <th>Temperature_city_2</th>\n",
       "      <th>Temperature_city_3</th>\n",
       "      <th>Which_destination</th>\n",
       "    </tr>\n",
       "  </thead>\n",
       "  <tbody>\n",
       "    <tr>\n",
       "      <th>0</th>\n",
       "      <td>20140910</td>\n",
       "      <td>80.0</td>\n",
       "      <td>32.0</td>\n",
       "      <td>40</td>\n",
       "      <td>1</td>\n",
       "    </tr>\n",
       "    <tr>\n",
       "      <th>1</th>\n",
       "      <td>20140911</td>\n",
       "      <td>100.0</td>\n",
       "      <td>50.0</td>\n",
       "      <td>36</td>\n",
       "      <td>2</td>\n",
       "    </tr>\n",
       "    <tr>\n",
       "      <th>2</th>\n",
       "      <td>20140912</td>\n",
       "      <td>102.0</td>\n",
       "      <td>55.0</td>\n",
       "      <td>46</td>\n",
       "      <td>1</td>\n",
       "    </tr>\n",
       "    <tr>\n",
       "      <th>3</th>\n",
       "      <td>20140912</td>\n",
       "      <td>60.0</td>\n",
       "      <td>20.0</td>\n",
       "      <td>35</td>\n",
       "      <td>3</td>\n",
       "    </tr>\n",
       "    <tr>\n",
       "      <th>4</th>\n",
       "      <td>20140914</td>\n",
       "      <td>60.0</td>\n",
       "      <td>NaN</td>\n",
       "      <td>32</td>\n",
       "      <td>3</td>\n",
       "    </tr>\n",
       "    <tr>\n",
       "      <th>5</th>\n",
       "      <td>20140914</td>\n",
       "      <td>NaN</td>\n",
       "      <td>57.0</td>\n",
       "      <td>42</td>\n",
       "      <td>2</td>\n",
       "    </tr>\n",
       "  </tbody>\n",
       "</table>\n",
       "</div>"
      ],
      "text/plain": [
       "       Date  Temperature_city_1  Temperature_city_2  Temperature_city_3  \\\n",
       "0  20140910                80.0                32.0                  40   \n",
       "1  20140911               100.0                50.0                  36   \n",
       "2  20140912               102.0                55.0                  46   \n",
       "3  20140912                60.0                20.0                  35   \n",
       "4  20140914                60.0                 NaN                  32   \n",
       "5  20140914                 NaN                57.0                  42   \n",
       "\n",
       "   Which_destination  \n",
       "0                  1  \n",
       "1                  2  \n",
       "2                  1  \n",
       "3                  3  \n",
       "4                  3  \n",
       "5                  2  "
      ]
     },
     "execution_count": 16,
     "metadata": {},
     "output_type": "execute_result"
    }
   ],
   "source": [
    "import pandas as pd\n",
    "fake_dataset = pd.read_csv(\"CSV_Files.csv\")\n",
    "fake_dataset"
   ]
  },
  {
   "cell_type": "markdown",
   "id": "f2d88a4b",
   "metadata": {},
   "source": [
    "####  Display correctly the date."
   ]
  },
  {
   "cell_type": "code",
   "execution_count": 17,
   "id": "6185b249",
   "metadata": {},
   "outputs": [
    {
     "data": {
      "text/html": [
       "<div>\n",
       "<style scoped>\n",
       "    .dataframe tbody tr th:only-of-type {\n",
       "        vertical-align: middle;\n",
       "    }\n",
       "\n",
       "    .dataframe tbody tr th {\n",
       "        vertical-align: top;\n",
       "    }\n",
       "\n",
       "    .dataframe thead th {\n",
       "        text-align: right;\n",
       "    }\n",
       "</style>\n",
       "<table border=\"1\" class=\"dataframe\">\n",
       "  <thead>\n",
       "    <tr style=\"text-align: right;\">\n",
       "      <th></th>\n",
       "      <th>Date</th>\n",
       "      <th>Temperature_city_1</th>\n",
       "      <th>Temperature_city_2</th>\n",
       "      <th>Temperature_city_3</th>\n",
       "      <th>Which_destination</th>\n",
       "    </tr>\n",
       "  </thead>\n",
       "  <tbody>\n",
       "    <tr>\n",
       "      <th>0</th>\n",
       "      <td>2014-09-10</td>\n",
       "      <td>80.0</td>\n",
       "      <td>32.0</td>\n",
       "      <td>40</td>\n",
       "      <td>1</td>\n",
       "    </tr>\n",
       "    <tr>\n",
       "      <th>1</th>\n",
       "      <td>2014-09-11</td>\n",
       "      <td>100.0</td>\n",
       "      <td>50.0</td>\n",
       "      <td>36</td>\n",
       "      <td>2</td>\n",
       "    </tr>\n",
       "    <tr>\n",
       "      <th>2</th>\n",
       "      <td>2014-09-12</td>\n",
       "      <td>102.0</td>\n",
       "      <td>55.0</td>\n",
       "      <td>46</td>\n",
       "      <td>1</td>\n",
       "    </tr>\n",
       "    <tr>\n",
       "      <th>3</th>\n",
       "      <td>2014-09-12</td>\n",
       "      <td>60.0</td>\n",
       "      <td>20.0</td>\n",
       "      <td>35</td>\n",
       "      <td>3</td>\n",
       "    </tr>\n",
       "    <tr>\n",
       "      <th>4</th>\n",
       "      <td>2014-09-14</td>\n",
       "      <td>60.0</td>\n",
       "      <td>NaN</td>\n",
       "      <td>32</td>\n",
       "      <td>3</td>\n",
       "    </tr>\n",
       "    <tr>\n",
       "      <th>5</th>\n",
       "      <td>2014-09-14</td>\n",
       "      <td>NaN</td>\n",
       "      <td>57.0</td>\n",
       "      <td>42</td>\n",
       "      <td>2</td>\n",
       "    </tr>\n",
       "  </tbody>\n",
       "</table>\n",
       "</div>"
      ],
      "text/plain": [
       "        Date  Temperature_city_1  Temperature_city_2  Temperature_city_3  \\\n",
       "0 2014-09-10                80.0                32.0                  40   \n",
       "1 2014-09-11               100.0                50.0                  36   \n",
       "2 2014-09-12               102.0                55.0                  46   \n",
       "3 2014-09-12                60.0                20.0                  35   \n",
       "4 2014-09-14                60.0                 NaN                  32   \n",
       "5 2014-09-14                 NaN                57.0                  42   \n",
       "\n",
       "   Which_destination  \n",
       "0                  1  \n",
       "1                  2  \n",
       "2                  1  \n",
       "3                  3  \n",
       "4                  3  \n",
       "5                  2  "
      ]
     },
     "execution_count": 17,
     "metadata": {},
     "output_type": "execute_result"
    }
   ],
   "source": [
    "fake_dataset = pd.read_csv(\"CSV_Files.csv\", parse_dates = [0]) # To parse well the date\n",
    "fake_dataset"
   ]
  },
  {
   "cell_type": "markdown",
   "id": "2bc3cac7",
   "metadata": {},
   "source": [
    "#### Replace missing values by a meaningfull value"
   ]
  },
  {
   "cell_type": "code",
   "execution_count": 18,
   "id": "c7de9dc1",
   "metadata": {},
   "outputs": [
    {
     "data": {
      "text/html": [
       "<div>\n",
       "<style scoped>\n",
       "    .dataframe tbody tr th:only-of-type {\n",
       "        vertical-align: middle;\n",
       "    }\n",
       "\n",
       "    .dataframe tbody tr th {\n",
       "        vertical-align: top;\n",
       "    }\n",
       "\n",
       "    .dataframe thead th {\n",
       "        text-align: right;\n",
       "    }\n",
       "</style>\n",
       "<table border=\"1\" class=\"dataframe\">\n",
       "  <thead>\n",
       "    <tr style=\"text-align: right;\">\n",
       "      <th></th>\n",
       "      <th>Date</th>\n",
       "      <th>Temperature_city_1</th>\n",
       "      <th>Temperature_city_2</th>\n",
       "      <th>Temperature_city_3</th>\n",
       "      <th>Which_destination</th>\n",
       "    </tr>\n",
       "  </thead>\n",
       "  <tbody>\n",
       "    <tr>\n",
       "      <th>0</th>\n",
       "      <td>2014-09-10</td>\n",
       "      <td>80.0</td>\n",
       "      <td>32.0</td>\n",
       "      <td>40</td>\n",
       "      <td>1</td>\n",
       "    </tr>\n",
       "    <tr>\n",
       "      <th>1</th>\n",
       "      <td>2014-09-11</td>\n",
       "      <td>100.0</td>\n",
       "      <td>50.0</td>\n",
       "      <td>36</td>\n",
       "      <td>2</td>\n",
       "    </tr>\n",
       "    <tr>\n",
       "      <th>2</th>\n",
       "      <td>2014-09-12</td>\n",
       "      <td>102.0</td>\n",
       "      <td>55.0</td>\n",
       "      <td>46</td>\n",
       "      <td>1</td>\n",
       "    </tr>\n",
       "    <tr>\n",
       "      <th>3</th>\n",
       "      <td>2014-09-12</td>\n",
       "      <td>60.0</td>\n",
       "      <td>20.0</td>\n",
       "      <td>35</td>\n",
       "      <td>3</td>\n",
       "    </tr>\n",
       "    <tr>\n",
       "      <th>4</th>\n",
       "      <td>2014-09-14</td>\n",
       "      <td>60.0</td>\n",
       "      <td>50.0</td>\n",
       "      <td>32</td>\n",
       "      <td>3</td>\n",
       "    </tr>\n",
       "    <tr>\n",
       "      <th>5</th>\n",
       "      <td>2014-09-14</td>\n",
       "      <td>50.0</td>\n",
       "      <td>57.0</td>\n",
       "      <td>42</td>\n",
       "      <td>2</td>\n",
       "    </tr>\n",
       "  </tbody>\n",
       "</table>\n",
       "</div>"
      ],
      "text/plain": [
       "        Date  Temperature_city_1  Temperature_city_2  Temperature_city_3  \\\n",
       "0 2014-09-10                80.0                32.0                  40   \n",
       "1 2014-09-11               100.0                50.0                  36   \n",
       "2 2014-09-12               102.0                55.0                  46   \n",
       "3 2014-09-12                60.0                20.0                  35   \n",
       "4 2014-09-14                60.0                50.0                  32   \n",
       "5 2014-09-14                50.0                57.0                  42   \n",
       "\n",
       "   Which_destination  \n",
       "0                  1  \n",
       "1                  2  \n",
       "2                  1  \n",
       "3                  3  \n",
       "4                  3  \n",
       "5                  2  "
      ]
     },
     "execution_count": 18,
     "metadata": {},
     "output_type": "execute_result"
    }
   ],
   "source": [
    "fake_dataset.fillna(50)"
   ]
  },
  {
   "cell_type": "markdown",
   "id": "e46b418f",
   "metadata": {},
   "source": [
    "**NB**: Note that this method only fills missing values in the view of the data\n",
    "(that is, it doesn't modify the original DataFrame). In order to actually\n",
    "change them, use the inplace=True argument command."
   ]
  },
  {
   "cell_type": "markdown",
   "id": "7b8aa43a",
   "metadata": {},
   "source": [
    "#### Replace the missing values by the mean of the DataFrame"
   ]
  },
  {
   "cell_type": "code",
   "execution_count": 19,
   "id": "6740412d",
   "metadata": {},
   "outputs": [
    {
     "data": {
      "text/html": [
       "<div>\n",
       "<style scoped>\n",
       "    .dataframe tbody tr th:only-of-type {\n",
       "        vertical-align: middle;\n",
       "    }\n",
       "\n",
       "    .dataframe tbody tr th {\n",
       "        vertical-align: top;\n",
       "    }\n",
       "\n",
       "    .dataframe thead th {\n",
       "        text-align: right;\n",
       "    }\n",
       "</style>\n",
       "<table border=\"1\" class=\"dataframe\">\n",
       "  <thead>\n",
       "    <tr style=\"text-align: right;\">\n",
       "      <th></th>\n",
       "      <th>Date</th>\n",
       "      <th>Temperature_city_1</th>\n",
       "      <th>Temperature_city_2</th>\n",
       "      <th>Temperature_city_3</th>\n",
       "      <th>Which_destination</th>\n",
       "    </tr>\n",
       "  </thead>\n",
       "  <tbody>\n",
       "    <tr>\n",
       "      <th>0</th>\n",
       "      <td>2014-09-10</td>\n",
       "      <td>80.0</td>\n",
       "      <td>32.0</td>\n",
       "      <td>40</td>\n",
       "      <td>1</td>\n",
       "    </tr>\n",
       "    <tr>\n",
       "      <th>1</th>\n",
       "      <td>2014-09-11</td>\n",
       "      <td>100.0</td>\n",
       "      <td>50.0</td>\n",
       "      <td>36</td>\n",
       "      <td>2</td>\n",
       "    </tr>\n",
       "    <tr>\n",
       "      <th>2</th>\n",
       "      <td>2014-09-12</td>\n",
       "      <td>102.0</td>\n",
       "      <td>55.0</td>\n",
       "      <td>46</td>\n",
       "      <td>1</td>\n",
       "    </tr>\n",
       "    <tr>\n",
       "      <th>3</th>\n",
       "      <td>2014-09-12</td>\n",
       "      <td>60.0</td>\n",
       "      <td>20.0</td>\n",
       "      <td>35</td>\n",
       "      <td>3</td>\n",
       "    </tr>\n",
       "    <tr>\n",
       "      <th>4</th>\n",
       "      <td>2014-09-14</td>\n",
       "      <td>60.0</td>\n",
       "      <td>42.8</td>\n",
       "      <td>32</td>\n",
       "      <td>3</td>\n",
       "    </tr>\n",
       "    <tr>\n",
       "      <th>5</th>\n",
       "      <td>2014-09-14</td>\n",
       "      <td>80.4</td>\n",
       "      <td>57.0</td>\n",
       "      <td>42</td>\n",
       "      <td>2</td>\n",
       "    </tr>\n",
       "  </tbody>\n",
       "</table>\n",
       "</div>"
      ],
      "text/plain": [
       "        Date  Temperature_city_1  Temperature_city_2  Temperature_city_3  \\\n",
       "0 2014-09-10                80.0                32.0                  40   \n",
       "1 2014-09-11               100.0                50.0                  36   \n",
       "2 2014-09-12               102.0                55.0                  46   \n",
       "3 2014-09-12                60.0                20.0                  35   \n",
       "4 2014-09-14                60.0                42.8                  32   \n",
       "5 2014-09-14                80.4                57.0                  42   \n",
       "\n",
       "   Which_destination  \n",
       "0                  1  \n",
       "1                  2  \n",
       "2                  1  \n",
       "3                  3  \n",
       "4                  3  \n",
       "5                  2  "
      ]
     },
     "execution_count": 19,
     "metadata": {},
     "output_type": "execute_result"
    }
   ],
   "source": [
    "avg_value = fake_dataset.mean(axis = 0) # compute the average that spans the rows(results in column-wise)\n",
    "avg_valueso= fake_dataset.median() # compute the median of the dataframe\n",
    "fake_dataset.fillna(avg_value)\n"
   ]
  },
  {
   "cell_type": "markdown",
   "id": "106c52ec",
   "metadata": {},
   "source": [
    "#### Dealing with badly formatted dataset\n",
    "\n",
    "Let's load the following file(that contains a bad line) with read_csv in default"
   ]
  },
  {
   "cell_type": "code",
   "execution_count": 20,
   "id": "a67cbc34",
   "metadata": {},
   "outputs": [
    {
     "ename": "ParserError",
     "evalue": "Error tokenizing data. C error: Expected 3 fields in line 4, saw 4\n",
     "output_type": "error",
     "traceback": [
      "\u001b[0;31m---------------------------------------------------------------------------\u001b[0m",
      "\u001b[0;31mParserError\u001b[0m                               Traceback (most recent call last)",
      "Cell \u001b[0;32mIn[20], line 1\u001b[0m\n\u001b[0;32m----> 1\u001b[0m bad_line_df \u001b[38;5;241m=\u001b[39m pd\u001b[38;5;241m.\u001b[39mread_csv(\u001b[38;5;124m'\u001b[39m\u001b[38;5;124mbad_format.csv\u001b[39m\u001b[38;5;124m'\u001b[39m)\n",
      "File \u001b[0;32m~/anaconda3/lib/python3.11/site-packages/pandas/io/parsers/readers.py:912\u001b[0m, in \u001b[0;36mread_csv\u001b[0;34m(filepath_or_buffer, sep, delimiter, header, names, index_col, usecols, dtype, engine, converters, true_values, false_values, skipinitialspace, skiprows, skipfooter, nrows, na_values, keep_default_na, na_filter, verbose, skip_blank_lines, parse_dates, infer_datetime_format, keep_date_col, date_parser, date_format, dayfirst, cache_dates, iterator, chunksize, compression, thousands, decimal, lineterminator, quotechar, quoting, doublequote, escapechar, comment, encoding, encoding_errors, dialect, on_bad_lines, delim_whitespace, low_memory, memory_map, float_precision, storage_options, dtype_backend)\u001b[0m\n\u001b[1;32m    899\u001b[0m kwds_defaults \u001b[38;5;241m=\u001b[39m _refine_defaults_read(\n\u001b[1;32m    900\u001b[0m     dialect,\n\u001b[1;32m    901\u001b[0m     delimiter,\n\u001b[0;32m   (...)\u001b[0m\n\u001b[1;32m    908\u001b[0m     dtype_backend\u001b[38;5;241m=\u001b[39mdtype_backend,\n\u001b[1;32m    909\u001b[0m )\n\u001b[1;32m    910\u001b[0m kwds\u001b[38;5;241m.\u001b[39mupdate(kwds_defaults)\n\u001b[0;32m--> 912\u001b[0m \u001b[38;5;28;01mreturn\u001b[39;00m _read(filepath_or_buffer, kwds)\n",
      "File \u001b[0;32m~/anaconda3/lib/python3.11/site-packages/pandas/io/parsers/readers.py:583\u001b[0m, in \u001b[0;36m_read\u001b[0;34m(filepath_or_buffer, kwds)\u001b[0m\n\u001b[1;32m    580\u001b[0m     \u001b[38;5;28;01mreturn\u001b[39;00m parser\n\u001b[1;32m    582\u001b[0m \u001b[38;5;28;01mwith\u001b[39;00m parser:\n\u001b[0;32m--> 583\u001b[0m     \u001b[38;5;28;01mreturn\u001b[39;00m parser\u001b[38;5;241m.\u001b[39mread(nrows)\n",
      "File \u001b[0;32m~/anaconda3/lib/python3.11/site-packages/pandas/io/parsers/readers.py:1704\u001b[0m, in \u001b[0;36mTextFileReader.read\u001b[0;34m(self, nrows)\u001b[0m\n\u001b[1;32m   1697\u001b[0m nrows \u001b[38;5;241m=\u001b[39m validate_integer(\u001b[38;5;124m\"\u001b[39m\u001b[38;5;124mnrows\u001b[39m\u001b[38;5;124m\"\u001b[39m, nrows)\n\u001b[1;32m   1698\u001b[0m \u001b[38;5;28;01mtry\u001b[39;00m:\n\u001b[1;32m   1699\u001b[0m     \u001b[38;5;66;03m# error: \"ParserBase\" has no attribute \"read\"\u001b[39;00m\n\u001b[1;32m   1700\u001b[0m     (\n\u001b[1;32m   1701\u001b[0m         index,\n\u001b[1;32m   1702\u001b[0m         columns,\n\u001b[1;32m   1703\u001b[0m         col_dict,\n\u001b[0;32m-> 1704\u001b[0m     ) \u001b[38;5;241m=\u001b[39m \u001b[38;5;28mself\u001b[39m\u001b[38;5;241m.\u001b[39m_engine\u001b[38;5;241m.\u001b[39mread(  \u001b[38;5;66;03m# type: ignore[attr-defined]\u001b[39;00m\n\u001b[1;32m   1705\u001b[0m         nrows\n\u001b[1;32m   1706\u001b[0m     )\n\u001b[1;32m   1707\u001b[0m \u001b[38;5;28;01mexcept\u001b[39;00m \u001b[38;5;167;01mException\u001b[39;00m:\n\u001b[1;32m   1708\u001b[0m     \u001b[38;5;28mself\u001b[39m\u001b[38;5;241m.\u001b[39mclose()\n",
      "File \u001b[0;32m~/anaconda3/lib/python3.11/site-packages/pandas/io/parsers/c_parser_wrapper.py:234\u001b[0m, in \u001b[0;36mCParserWrapper.read\u001b[0;34m(self, nrows)\u001b[0m\n\u001b[1;32m    232\u001b[0m \u001b[38;5;28;01mtry\u001b[39;00m:\n\u001b[1;32m    233\u001b[0m     \u001b[38;5;28;01mif\u001b[39;00m \u001b[38;5;28mself\u001b[39m\u001b[38;5;241m.\u001b[39mlow_memory:\n\u001b[0;32m--> 234\u001b[0m         chunks \u001b[38;5;241m=\u001b[39m \u001b[38;5;28mself\u001b[39m\u001b[38;5;241m.\u001b[39m_reader\u001b[38;5;241m.\u001b[39mread_low_memory(nrows)\n\u001b[1;32m    235\u001b[0m         \u001b[38;5;66;03m# destructive to chunks\u001b[39;00m\n\u001b[1;32m    236\u001b[0m         data \u001b[38;5;241m=\u001b[39m _concatenate_chunks(chunks)\n",
      "File \u001b[0;32m~/anaconda3/lib/python3.11/site-packages/pandas/_libs/parsers.pyx:814\u001b[0m, in \u001b[0;36mpandas._libs.parsers.TextReader.read_low_memory\u001b[0;34m()\u001b[0m\n",
      "File \u001b[0;32m~/anaconda3/lib/python3.11/site-packages/pandas/_libs/parsers.pyx:875\u001b[0m, in \u001b[0;36mpandas._libs.parsers.TextReader._read_rows\u001b[0;34m()\u001b[0m\n",
      "File \u001b[0;32m~/anaconda3/lib/python3.11/site-packages/pandas/_libs/parsers.pyx:850\u001b[0m, in \u001b[0;36mpandas._libs.parsers.TextReader._tokenize_rows\u001b[0;34m()\u001b[0m\n",
      "File \u001b[0;32m~/anaconda3/lib/python3.11/site-packages/pandas/_libs/parsers.pyx:861\u001b[0m, in \u001b[0;36mpandas._libs.parsers.TextReader._check_tokenize_status\u001b[0;34m()\u001b[0m\n",
      "File \u001b[0;32m~/anaconda3/lib/python3.11/site-packages/pandas/_libs/parsers.pyx:2029\u001b[0m, in \u001b[0;36mpandas._libs.parsers.raise_parser_error\u001b[0;34m()\u001b[0m\n",
      "\u001b[0;31mParserError\u001b[0m: Error tokenizing data. C error: Expected 3 fields in line 4, saw 4\n"
     ]
    }
   ],
   "source": [
    "bad_line_df = pd.read_csv('bad_format.csv')"
   ]
  },
  {
   "cell_type": "markdown",
   "id": "6d3c8f3f",
   "metadata": {},
   "source": [
    "This raises to an error. To avoid that errors, we have to ignore the lines causing the exception,by using setting the on_bad_lines (in earlier version of python it is error_bad_lines or warn_bad_lines) parameter to false."
   ]
  },
  {
   "cell_type": "code",
   "execution_count": 21,
   "id": "b55c4064",
   "metadata": {},
   "outputs": [
    {
     "data": {
      "text/html": [
       "<div>\n",
       "<style scoped>\n",
       "    .dataframe tbody tr th:only-of-type {\n",
       "        vertical-align: middle;\n",
       "    }\n",
       "\n",
       "    .dataframe tbody tr th {\n",
       "        vertical-align: top;\n",
       "    }\n",
       "\n",
       "    .dataframe thead th {\n",
       "        text-align: right;\n",
       "    }\n",
       "</style>\n",
       "<table border=\"1\" class=\"dataframe\">\n",
       "  <thead>\n",
       "    <tr style=\"text-align: right;\">\n",
       "      <th></th>\n",
       "      <th>Val1</th>\n",
       "      <th>Val2</th>\n",
       "      <th>Val3</th>\n",
       "    </tr>\n",
       "  </thead>\n",
       "  <tbody>\n",
       "    <tr>\n",
       "      <th>0</th>\n",
       "      <td>0</td>\n",
       "      <td>0</td>\n",
       "      <td>0</td>\n",
       "    </tr>\n",
       "    <tr>\n",
       "      <th>1</th>\n",
       "      <td>1</td>\n",
       "      <td>1</td>\n",
       "      <td>1</td>\n",
       "    </tr>\n",
       "    <tr>\n",
       "      <th>2</th>\n",
       "      <td>3</td>\n",
       "      <td>3</td>\n",
       "      <td>3</td>\n",
       "    </tr>\n",
       "  </tbody>\n",
       "</table>\n",
       "</div>"
      ],
      "text/plain": [
       "   Val1  Val2  Val3\n",
       "0     0     0     0\n",
       "1     1     1     1\n",
       "2     3     3     3"
      ]
     },
     "execution_count": 21,
     "metadata": {},
     "output_type": "execute_result"
    }
   ],
   "source": [
    "bad_line_df = pd.read_csv('bad_format.csv', on_bad_lines = 'skip')\n",
    "bad_line_df"
   ]
  },
  {
   "cell_type": "markdown",
   "id": "576dacf1",
   "metadata": {},
   "source": [
    "## Dealing with big datasets\n",
    "\n",
    "Sometimes, one uses batch Machine learning algorithm to:\n",
    "- Take a peek at the data or ;\n",
    "- Deal with the problem of fitting the size of dataset with the computer's memory,when you load it."
   ]
  },
  {
   "cell_type": "markdown",
   "id": "e63e033d",
   "metadata": {},
   "source": [
    "### Data streaming\n",
    "it consist of load the dataset in chunks."
   ]
  },
  {
   "cell_type": "markdown",
   "id": "794c6e59",
   "metadata": {},
   "source": [
    "#### Use of chunksize of pandas module"
   ]
  },
  {
   "cell_type": "code",
   "execution_count": 22,
   "id": "30218d0d",
   "metadata": {},
   "outputs": [
    {
     "name": "stdout",
     "output_type": "stream",
     "text": [
      "Shape: (10, 5)\n",
      "   sepal_length  sepal_width  petal_length  petal_width       target\n",
      "0           5.1          3.5           1.4          0.2  Iris-setosa\n",
      "1           4.9          3.0           1.4          0.2  Iris-setosa\n",
      "2           4.7          3.2           1.3          0.2  Iris-setosa\n",
      "3           4.6          3.1           1.5          0.2  Iris-setosa\n",
      "4           5.0          3.6           1.4          0.2  Iris-setosa\n",
      "5           5.4          3.9           1.7          0.4  Iris-setosa\n",
      "6           4.6          3.4           1.4          0.3  Iris-setosa\n",
      "7           5.0          3.4           1.5          0.2  Iris-setosa\n",
      "8           4.4          2.9           1.4          0.2  Iris-setosa\n",
      "9           4.9          3.1           1.5          0.1  Iris-setosa 1\n",
      "Shape: (10, 5)\n",
      "    sepal_length  sepal_width  petal_length  petal_width       target\n",
      "10           5.4          3.7           1.5          0.2  Iris-setosa\n",
      "11           4.8          3.4           1.6          0.2  Iris-setosa\n",
      "12           4.8          3.0           1.4          0.1  Iris-setosa\n",
      "13           4.3          3.0           1.1          0.1  Iris-setosa\n",
      "14           5.8          4.0           1.2          0.2  Iris-setosa\n",
      "15           5.7          4.4           1.5          0.4  Iris-setosa\n",
      "16           5.4          3.9           1.3          0.4  Iris-setosa\n",
      "17           5.1          3.5           1.4          0.3  Iris-setosa\n",
      "18           5.7          3.8           1.7          0.3  Iris-setosa\n",
      "19           5.1          3.8           1.5          0.3  Iris-setosa 2\n",
      "Shape: (10, 5)\n",
      "    sepal_length  sepal_width  petal_length  petal_width       target\n",
      "20           5.4          3.4           1.7          0.2  Iris-setosa\n",
      "21           5.1          3.7           1.5          0.4  Iris-setosa\n",
      "22           4.6          3.6           1.0          0.2  Iris-setosa\n",
      "23           5.1          3.3           1.7          0.5  Iris-setosa\n",
      "24           4.8          3.4           1.9          0.2  Iris-setosa\n",
      "25           5.0          3.0           1.6          0.2  Iris-setosa\n",
      "26           5.0          3.4           1.6          0.4  Iris-setosa\n",
      "27           5.2          3.5           1.5          0.2  Iris-setosa\n",
      "28           5.2          3.4           1.4          0.2  Iris-setosa\n",
      "29           4.7          3.2           1.6          0.2  Iris-setosa 3\n",
      "Shape: (10, 5)\n",
      "    sepal_length  sepal_width  petal_length  petal_width       target\n",
      "30           4.8          3.1           1.6          0.2  Iris-setosa\n",
      "31           5.4          3.4           1.5          0.4  Iris-setosa\n",
      "32           5.2          4.1           1.5          0.1  Iris-setosa\n",
      "33           5.5          4.2           1.4          0.2  Iris-setosa\n",
      "34           4.9          3.1           1.5          0.1  Iris-setosa\n",
      "35           5.0          3.2           1.2          0.2  Iris-setosa\n",
      "36           5.5          3.5           1.3          0.2  Iris-setosa\n",
      "37           4.9          3.1           1.5          0.1  Iris-setosa\n",
      "38           4.4          3.0           1.3          0.2  Iris-setosa\n",
      "39           5.1          3.4           1.5          0.2  Iris-setosa 4\n",
      "Shape: (10, 5)\n",
      "    sepal_length  sepal_width  petal_length  petal_width       target\n",
      "40           5.0          3.5           1.3          0.3  Iris-setosa\n",
      "41           4.5          2.3           1.3          0.3  Iris-setosa\n",
      "42           4.4          3.2           1.3          0.2  Iris-setosa\n",
      "43           5.0          3.5           1.6          0.6  Iris-setosa\n",
      "44           5.1          3.8           1.9          0.4  Iris-setosa\n",
      "45           4.8          3.0           1.4          0.3  Iris-setosa\n",
      "46           5.1          3.8           1.6          0.2  Iris-setosa\n",
      "47           4.6          3.2           1.4          0.2  Iris-setosa\n",
      "48           5.3          3.7           1.5          0.2  Iris-setosa\n",
      "49           5.0          3.3           1.4          0.2  Iris-setosa 5\n",
      "Shape: (10, 5)\n",
      "    sepal_length  sepal_width  petal_length  petal_width           target\n",
      "50           7.0          3.2           4.7          1.4  Iris-versicolor\n",
      "51           6.4          3.2           4.5          1.5  Iris-versicolor\n",
      "52           6.9          3.1           4.9          1.5  Iris-versicolor\n",
      "53           5.5          2.3           4.0          1.3  Iris-versicolor\n",
      "54           6.5          2.8           4.6          1.5  Iris-versicolor\n",
      "55           5.7          2.8           4.5          1.3  Iris-versicolor\n",
      "56           6.3          3.3           4.7          1.6  Iris-versicolor\n",
      "57           4.9          2.4           3.3          1.0  Iris-versicolor\n",
      "58           6.6          2.9           4.6          1.3  Iris-versicolor\n",
      "59           5.2          2.7           3.9          1.4  Iris-versicolor 6\n",
      "Shape: (10, 5)\n",
      "    sepal_length  sepal_width  petal_length  petal_width           target\n",
      "60           5.0          2.0           3.5          1.0  Iris-versicolor\n",
      "61           5.9          3.0           4.2          1.5  Iris-versicolor\n",
      "62           6.0          2.2           4.0          1.0  Iris-versicolor\n",
      "63           6.1          2.9           4.7          1.4  Iris-versicolor\n",
      "64           5.6          2.9           3.6          1.3  Iris-versicolor\n",
      "65           6.7          3.1           4.4          1.4  Iris-versicolor\n",
      "66           5.6          3.0           4.5          1.5  Iris-versicolor\n",
      "67           5.8          2.7           4.1          1.0  Iris-versicolor\n",
      "68           6.2          2.2           4.5          1.5  Iris-versicolor\n",
      "69           5.6          2.5           3.9          1.1  Iris-versicolor 7\n",
      "Shape: (10, 5)\n",
      "    sepal_length  sepal_width  petal_length  petal_width           target\n",
      "70           5.9          3.2           4.8          1.8  Iris-versicolor\n",
      "71           6.1          2.8           4.0          1.3  Iris-versicolor\n",
      "72           6.3          2.5           4.9          1.5  Iris-versicolor\n",
      "73           6.1          2.8           4.7          1.2  Iris-versicolor\n",
      "74           6.4          2.9           4.3          1.3  Iris-versicolor\n",
      "75           6.6          3.0           4.4          1.4  Iris-versicolor\n",
      "76           6.8          2.8           4.8          1.4  Iris-versicolor\n",
      "77           6.7          3.0           5.0          1.7  Iris-versicolor\n",
      "78           6.0          2.9           4.5          1.5  Iris-versicolor\n",
      "79           5.7          2.6           3.5          1.0  Iris-versicolor 8\n",
      "Shape: (10, 5)\n",
      "    sepal_length  sepal_width  petal_length  petal_width           target\n",
      "80           5.5          2.4           3.8          1.1  Iris-versicolor\n",
      "81           5.5          2.4           3.7          1.0  Iris-versicolor\n",
      "82           5.8          2.7           3.9          1.2  Iris-versicolor\n",
      "83           6.0          2.7           5.1          1.6  Iris-versicolor\n",
      "84           5.4          3.0           4.5          1.5  Iris-versicolor\n",
      "85           6.0          3.4           4.5          1.6  Iris-versicolor\n",
      "86           6.7          3.1           4.7          1.5  Iris-versicolor\n",
      "87           6.3          2.3           4.4          1.3  Iris-versicolor\n",
      "88           5.6          3.0           4.1          1.3  Iris-versicolor\n",
      "89           5.5          2.5           4.0          1.3  Iris-versicolor 9\n",
      "Shape: (10, 5)\n",
      "    sepal_length  sepal_width  petal_length  petal_width           target\n",
      "90           5.5          2.6           4.4          1.2  Iris-versicolor\n",
      "91           6.1          3.0           4.6          1.4  Iris-versicolor\n",
      "92           5.8          2.6           4.0          1.2  Iris-versicolor\n",
      "93           5.0          2.3           3.3          1.0  Iris-versicolor\n",
      "94           5.6          2.7           4.2          1.3  Iris-versicolor\n",
      "95           5.7          3.0           4.2          1.2  Iris-versicolor\n",
      "96           5.7          2.9           4.2          1.3  Iris-versicolor\n",
      "97           6.2          2.9           4.3          1.3  Iris-versicolor\n",
      "98           5.1          2.5           3.0          1.1  Iris-versicolor\n",
      "99           5.7          2.8           4.1          1.3  Iris-versicolor 10\n",
      "Shape: (10, 5)\n",
      "     sepal_length  sepal_width  petal_length  petal_width          target\n",
      "100           6.3          3.3           6.0          2.5  Iris-virginica\n",
      "101           5.8          2.7           5.1          1.9  Iris-virginica\n",
      "102           7.1          3.0           5.9          2.1  Iris-virginica\n",
      "103           6.3          2.9           5.6          1.8  Iris-virginica\n",
      "104           6.5          3.0           5.8          2.2  Iris-virginica\n",
      "105           7.6          3.0           6.6          2.1  Iris-virginica\n",
      "106           4.9          2.5           4.5          1.7  Iris-virginica\n",
      "107           7.3          2.9           6.3          1.8  Iris-virginica\n",
      "108           6.7          2.5           5.8          1.8  Iris-virginica\n",
      "109           7.2          3.6           6.1          2.5  Iris-virginica 11\n",
      "Shape: (10, 5)\n",
      "     sepal_length  sepal_width  petal_length  petal_width          target\n",
      "110           6.5          3.2           5.1          2.0  Iris-virginica\n",
      "111           6.4          2.7           5.3          1.9  Iris-virginica\n",
      "112           6.8          3.0           5.5          2.1  Iris-virginica\n",
      "113           5.7          2.5           5.0          2.0  Iris-virginica\n",
      "114           5.8          2.8           5.1          2.4  Iris-virginica\n",
      "115           6.4          3.2           5.3          2.3  Iris-virginica\n",
      "116           6.5          3.0           5.5          1.8  Iris-virginica\n",
      "117           7.7          3.8           6.7          2.2  Iris-virginica\n",
      "118           7.7          2.6           6.9          2.3  Iris-virginica\n",
      "119           6.0          2.2           5.0          1.5  Iris-virginica 12\n",
      "Shape: (10, 5)\n",
      "     sepal_length  sepal_width  petal_length  petal_width          target\n",
      "120           6.9          3.2           5.7          2.3  Iris-virginica\n",
      "121           5.6          2.8           4.9          2.0  Iris-virginica\n",
      "122           7.7          2.8           6.7          2.0  Iris-virginica\n",
      "123           6.3          2.7           4.9          1.8  Iris-virginica\n",
      "124           6.7          3.3           5.7          2.1  Iris-virginica\n",
      "125           7.2          3.2           6.0          1.8  Iris-virginica\n",
      "126           6.2          2.8           4.8          1.8  Iris-virginica\n",
      "127           6.1          3.0           4.9          1.8  Iris-virginica\n",
      "128           6.4          2.8           5.6          2.1  Iris-virginica\n",
      "129           7.2          3.0           5.8          1.6  Iris-virginica 13\n",
      "Shape: (10, 5)\n",
      "     sepal_length  sepal_width  petal_length  petal_width          target\n",
      "130           7.4          2.8           6.1          1.9  Iris-virginica\n",
      "131           7.9          3.8           6.4          2.0  Iris-virginica\n",
      "132           6.4          2.8           5.6          2.2  Iris-virginica\n",
      "133           6.3          2.8           5.1          1.5  Iris-virginica\n",
      "134           6.1          2.6           5.6          1.4  Iris-virginica\n",
      "135           7.7          3.0           6.1          2.3  Iris-virginica\n",
      "136           6.3          3.4           5.6          2.4  Iris-virginica\n",
      "137           6.4          3.1           5.5          1.8  Iris-virginica\n",
      "138           6.0          3.0           4.8          1.8  Iris-virginica\n",
      "139           6.9          3.1           5.4          2.1  Iris-virginica 14\n",
      "Shape: (10, 5)\n",
      "     sepal_length  sepal_width  petal_length  petal_width          target\n",
      "140           6.7          3.1           5.6          2.4  Iris-virginica\n",
      "141           6.9          3.1           5.1          2.3  Iris-virginica\n",
      "142           5.8          2.7           5.1          1.9  Iris-virginica\n",
      "143           6.8          3.2           5.9          2.3  Iris-virginica\n",
      "144           6.7          3.3           5.7          2.5  Iris-virginica\n",
      "145           6.7          3.0           5.2          2.3  Iris-virginica\n",
      "146           6.3          2.5           5.0          1.9  Iris-virginica\n",
      "147           6.5          3.0           5.2          2.0  Iris-virginica\n",
      "148           6.2          3.4           5.4          2.3  Iris-virginica\n",
      "149           5.9          3.0           5.1          1.8  Iris-virginica 15\n"
     ]
    }
   ],
   "source": [
    "import pandas as pd\n",
    "iris_filename = 'iris/iris.data'\n",
    "iris_chunks = pd.read_csv(iris_filename, names = ['sepal_length','sepal_width', \n",
    "                                             'petal_length', 'petal_width','target'],chunksize = 10)\n",
    "n = 0 \n",
    "for chunk in iris_chunks:\n",
    "    n+=1\n",
    "    print ('Shape:', chunk.shape)\n",
    "    print (chunk,n)"
   ]
  },
  {
   "cell_type": "code",
   "execution_count": 23,
   "id": "534377d7",
   "metadata": {},
   "outputs": [
    {
     "name": "stdout",
     "output_type": "stream",
     "text": [
      "<class 'pandas.io.parsers.readers.TextFileReader'>\n"
     ]
    }
   ],
   "source": [
    "print(type(iris_chunks))  # this object is not a DataFrame but an iterator like object."
   ]
  },
  {
   "cell_type": "markdown",
   "id": "8340f93f",
   "metadata": {},
   "source": [
    "#### loading big dataset by asking for iterator of pandas module \n",
    "\n",
    "In this case, you can\n",
    "dynamically decide the length (that is, how many lines to get) you want for each piece of\n",
    "the pandas DataFrame:"
   ]
  },
  {
   "cell_type": "code",
   "execution_count": 33,
   "id": "430280a0",
   "metadata": {},
   "outputs": [
    {
     "data": {
      "text/html": [
       "<div>\n",
       "<style scoped>\n",
       "    .dataframe tbody tr th:only-of-type {\n",
       "        vertical-align: middle;\n",
       "    }\n",
       "\n",
       "    .dataframe tbody tr th {\n",
       "        vertical-align: top;\n",
       "    }\n",
       "\n",
       "    .dataframe thead th {\n",
       "        text-align: right;\n",
       "    }\n",
       "</style>\n",
       "<table border=\"1\" class=\"dataframe\">\n",
       "  <thead>\n",
       "    <tr style=\"text-align: right;\">\n",
       "      <th></th>\n",
       "      <th>sepal_length</th>\n",
       "      <th>sepal_width</th>\n",
       "      <th>petal_length</th>\n",
       "      <th>petal_width</th>\n",
       "      <th>target</th>\n",
       "    </tr>\n",
       "  </thead>\n",
       "  <tbody>\n",
       "    <tr>\n",
       "      <th>0</th>\n",
       "      <td>5.1</td>\n",
       "      <td>3.5</td>\n",
       "      <td>1.4</td>\n",
       "      <td>0.2</td>\n",
       "      <td>Iris-setosa</td>\n",
       "    </tr>\n",
       "    <tr>\n",
       "      <th>1</th>\n",
       "      <td>4.9</td>\n",
       "      <td>3.0</td>\n",
       "      <td>1.4</td>\n",
       "      <td>0.2</td>\n",
       "      <td>Iris-setosa</td>\n",
       "    </tr>\n",
       "    <tr>\n",
       "      <th>2</th>\n",
       "      <td>4.7</td>\n",
       "      <td>3.2</td>\n",
       "      <td>1.3</td>\n",
       "      <td>0.2</td>\n",
       "      <td>Iris-setosa</td>\n",
       "    </tr>\n",
       "    <tr>\n",
       "      <th>3</th>\n",
       "      <td>4.6</td>\n",
       "      <td>3.1</td>\n",
       "      <td>1.5</td>\n",
       "      <td>0.2</td>\n",
       "      <td>Iris-setosa</td>\n",
       "    </tr>\n",
       "    <tr>\n",
       "      <th>4</th>\n",
       "      <td>5.0</td>\n",
       "      <td>3.6</td>\n",
       "      <td>1.4</td>\n",
       "      <td>0.2</td>\n",
       "      <td>Iris-setosa</td>\n",
       "    </tr>\n",
       "    <tr>\n",
       "      <th>5</th>\n",
       "      <td>5.4</td>\n",
       "      <td>3.9</td>\n",
       "      <td>1.7</td>\n",
       "      <td>0.4</td>\n",
       "      <td>Iris-setosa</td>\n",
       "    </tr>\n",
       "    <tr>\n",
       "      <th>6</th>\n",
       "      <td>4.6</td>\n",
       "      <td>3.4</td>\n",
       "      <td>1.4</td>\n",
       "      <td>0.3</td>\n",
       "      <td>Iris-setosa</td>\n",
       "    </tr>\n",
       "    <tr>\n",
       "      <th>7</th>\n",
       "      <td>5.0</td>\n",
       "      <td>3.4</td>\n",
       "      <td>1.5</td>\n",
       "      <td>0.2</td>\n",
       "      <td>Iris-setosa</td>\n",
       "    </tr>\n",
       "    <tr>\n",
       "      <th>8</th>\n",
       "      <td>4.4</td>\n",
       "      <td>2.9</td>\n",
       "      <td>1.4</td>\n",
       "      <td>0.2</td>\n",
       "      <td>Iris-setosa</td>\n",
       "    </tr>\n",
       "    <tr>\n",
       "      <th>9</th>\n",
       "      <td>4.9</td>\n",
       "      <td>3.1</td>\n",
       "      <td>1.5</td>\n",
       "      <td>0.1</td>\n",
       "      <td>Iris-setosa</td>\n",
       "    </tr>\n",
       "  </tbody>\n",
       "</table>\n",
       "</div>"
      ],
      "text/plain": [
       "   sepal_length  sepal_width  petal_length  petal_width       target\n",
       "0           5.1          3.5           1.4          0.2  Iris-setosa\n",
       "1           4.9          3.0           1.4          0.2  Iris-setosa\n",
       "2           4.7          3.2           1.3          0.2  Iris-setosa\n",
       "3           4.6          3.1           1.5          0.2  Iris-setosa\n",
       "4           5.0          3.6           1.4          0.2  Iris-setosa\n",
       "5           5.4          3.9           1.7          0.4  Iris-setosa\n",
       "6           4.6          3.4           1.4          0.3  Iris-setosa\n",
       "7           5.0          3.4           1.5          0.2  Iris-setosa\n",
       "8           4.4          2.9           1.4          0.2  Iris-setosa\n",
       "9           4.9          3.1           1.5          0.1  Iris-setosa"
      ]
     },
     "execution_count": 33,
     "metadata": {},
     "output_type": "execute_result"
    }
   ],
   "source": [
    "import pandas as pd\n",
    "iris_filename = 'iris/iris.data'\n",
    "iris_iterator = pd.read_csv(iris_filename, names = ['sepal_length','sepal_width', \n",
    "                                             'petal_length', 'petal_width','target'],iterator = True) # we first \n",
    "#define the iterator\n",
    "\n",
    "iris_iterator.get_chunk(10)  # observ a piece of the original DataFrame that contains 10 rows "
   ]
  },
  {
   "cell_type": "code",
   "execution_count": 25,
   "id": "9eeaf295",
   "metadata": {},
   "outputs": [
    {
     "data": {
      "text/html": [
       "<div>\n",
       "<style scoped>\n",
       "    .dataframe tbody tr th:only-of-type {\n",
       "        vertical-align: middle;\n",
       "    }\n",
       "\n",
       "    .dataframe tbody tr th {\n",
       "        vertical-align: top;\n",
       "    }\n",
       "\n",
       "    .dataframe thead th {\n",
       "        text-align: right;\n",
       "    }\n",
       "</style>\n",
       "<table border=\"1\" class=\"dataframe\">\n",
       "  <thead>\n",
       "    <tr style=\"text-align: right;\">\n",
       "      <th></th>\n",
       "      <th>sepal_length</th>\n",
       "      <th>sepal_width</th>\n",
       "      <th>petal_length</th>\n",
       "      <th>petal_width</th>\n",
       "      <th>target</th>\n",
       "    </tr>\n",
       "  </thead>\n",
       "  <tbody>\n",
       "    <tr>\n",
       "      <th>10</th>\n",
       "      <td>5.4</td>\n",
       "      <td>3.7</td>\n",
       "      <td>1.5</td>\n",
       "      <td>0.2</td>\n",
       "      <td>Iris-setosa</td>\n",
       "    </tr>\n",
       "    <tr>\n",
       "      <th>11</th>\n",
       "      <td>4.8</td>\n",
       "      <td>3.4</td>\n",
       "      <td>1.6</td>\n",
       "      <td>0.2</td>\n",
       "      <td>Iris-setosa</td>\n",
       "    </tr>\n",
       "    <tr>\n",
       "      <th>12</th>\n",
       "      <td>4.8</td>\n",
       "      <td>3.0</td>\n",
       "      <td>1.4</td>\n",
       "      <td>0.1</td>\n",
       "      <td>Iris-setosa</td>\n",
       "    </tr>\n",
       "    <tr>\n",
       "      <th>13</th>\n",
       "      <td>4.3</td>\n",
       "      <td>3.0</td>\n",
       "      <td>1.1</td>\n",
       "      <td>0.1</td>\n",
       "      <td>Iris-setosa</td>\n",
       "    </tr>\n",
       "    <tr>\n",
       "      <th>14</th>\n",
       "      <td>5.8</td>\n",
       "      <td>4.0</td>\n",
       "      <td>1.2</td>\n",
       "      <td>0.2</td>\n",
       "      <td>Iris-setosa</td>\n",
       "    </tr>\n",
       "  </tbody>\n",
       "</table>\n",
       "</div>"
      ],
      "text/plain": [
       "    sepal_length  sepal_width  petal_length  petal_width       target\n",
       "10           5.4          3.7           1.5          0.2  Iris-setosa\n",
       "11           4.8          3.4           1.6          0.2  Iris-setosa\n",
       "12           4.8          3.0           1.4          0.1  Iris-setosa\n",
       "13           4.3          3.0           1.1          0.1  Iris-setosa\n",
       "14           5.8          4.0           1.2          0.2  Iris-setosa"
      ]
     },
     "execution_count": 25,
     "metadata": {},
     "output_type": "execute_result"
    }
   ],
   "source": [
    "iris_iterator.get_chunk(5) # The output is a piece of the original data"
   ]
  },
  {
   "cell_type": "code",
   "execution_count": 26,
   "id": "a2b2da6a",
   "metadata": {},
   "outputs": [
    {
     "name": "stdout",
     "output_type": "stream",
     "text": [
      "(5, 5)\n"
     ]
    }
   ],
   "source": [
    "print(iris_iterator.get_chunk(5).shape) "
   ]
  },
  {
   "cell_type": "markdown",
   "id": "0a7819f6",
   "metadata": {},
   "source": [
    "#### Use of functions of csv package\n",
    "\n",
    "CSV packages offers 02 functions that helps to chunk data from file. The reader inputs the data from disks to the Python lists. DictReader instead transforms the data into a dictionary.The reader returns exactly what it reads, stripped of the return carriage, and splits\n",
    "into a list by the separator (which is a comma by default, but this can be modified).\n",
    "DictReader will map the list's data into a dictionary, whose keys will be defined by the\n",
    "first row (if a header is present) or the fieldnames parameter (using a list of strings that\n",
    "reports the column names)."
   ]
  },
  {
   "cell_type": "markdown",
   "id": "d27ac1d6",
   "metadata": {},
   "source": [
    "#### Use of DictReader"
   ]
  },
  {
   "cell_type": "code",
   "execution_count": 27,
   "id": "c5ef5d38",
   "metadata": {},
   "outputs": [
    {
     "name": "stdout",
     "output_type": "stream",
     "text": [
      "0 {'sepal_length': '5.1', 'sepal_width': '3.5', 'petal_length': '1.4', 'petal_width': '0.2', 'target': 'Iris-setosa'}\n",
      "1 {'sepal_length': '4.9', 'sepal_width': '3.0', 'petal_length': '1.4', 'petal_width': '0.2', 'target': 'Iris-setosa'}\n",
      "2 {'sepal_length': '4.7', 'sepal_width': '3.2', 'petal_length': '1.3', 'petal_width': '0.2', 'target': 'Iris-setosa'}\n",
      "3 {'sepal_length': '4.6', 'sepal_width': '3.1', 'petal_length': '1.5', 'petal_width': '0.2', 'target': 'Iris-setosa'}\n",
      "4 {'sepal_length': '5.0', 'sepal_width': '3.6', 'petal_length': '1.4', 'petal_width': '0.2', 'target': 'Iris-setosa'}\n",
      "5 {'sepal_length': '5.4', 'sepal_width': '3.9', 'petal_length': '1.7', 'petal_width': '0.4', 'target': 'Iris-setosa'}\n"
     ]
    }
   ],
   "source": [
    "import csv\n",
    "with open(iris_filename, 'rt') as data_streaming:\n",
    "    for n, row in enumerate(csv.DictReader(data_streaming, fieldnames = ['sepal_length','sepal_width',\n",
    "                                                        'petal_length','petal_width','target'],dialect='excel')):\n",
    "        if n <=5:\n",
    "            print(n,row)\n",
    "        else:\n",
    "            break\n",
    "        "
   ]
  },
  {
   "cell_type": "markdown",
   "id": "bb0a6916",
   "metadata": {},
   "source": [
    "**NB**: What does the preceding code accomplish? First, it opens a read-binary connection to the\n",
    "file that aliases it as data_stream. Using the with command assures that the file is closed\n",
    "after the commands placed in the preceding indentation are completely executed.\n",
    "Then, it iterates (for...in) and it enumerates a csv.DictReader call, which wraps the\n",
    "flow of the data from data_stream. Since we don't have a header row in the file,\n",
    "fieldnames provides information about the fields' names. dialect just specifies that we\n",
    "are calling the standard comma-separated CSV (we'll provide some hints on how to modify\n",
    "this parameter later)."
   ]
  },
  {
   "cell_type": "markdown",
   "id": "89fd9825",
   "metadata": {},
   "source": [
    "#### Use of reader"
   ]
  },
  {
   "cell_type": "code",
   "execution_count": 28,
   "id": "7bf4d002",
   "metadata": {},
   "outputs": [
    {
     "name": "stdout",
     "output_type": "stream",
     "text": [
      "['5.1', '3.5', '1.4', '0.2', 'Iris-setosa']\n",
      "['4.9', '3.0', '1.4', '0.2', 'Iris-setosa']\n",
      "['4.7', '3.2', '1.3', '0.2', 'Iris-setosa']\n",
      "['4.6', '3.1', '1.5', '0.2', 'Iris-setosa']\n"
     ]
    }
   ],
   "source": [
    "with open(iris_filename,'rt') as data_stream:\n",
    "    for n,row in enumerate(csv.reader(data_stream, dialect = 'excel')):\n",
    "        if n<=3:\n",
    "            print(row)\n",
    "        else:\n",
    "            break"
   ]
  },
  {
   "cell_type": "markdown",
   "id": "22796faa",
   "metadata": {},
   "source": [
    "#### Function  to chunks dataset using reader function of CSV package"
   ]
  },
  {
   "cell_type": "code",
   "execution_count": 29,
   "id": "24775fb1",
   "metadata": {},
   "outputs": [],
   "source": [
    "def batch_read(filename, batch=5):\n",
    "    \n",
    "    # open the data stream\n",
    "    with open(filename, 'rt') as data_stream:\n",
    "        # reset the batch\n",
    "        batch_output = list()\n",
    "        # iterate over the file\n",
    "        for n, row in enumerate(csv.reader(data_stream, dialect='excel')):\n",
    "           # if the batch is of the right size\n",
    "           if n > 0 and n % batch == 0:\n",
    "              # yield back the batch as an ndarray\n",
    "              yield(np.array(batch_output))\n",
    "              # reset the batch and restart\n",
    "              batch_output = list()\n",
    "           #  otherwise add the row to the batch\n",
    "           batch_output.append(row)\n",
    "           # when the loop is over, yield what's left\n",
    "        yield(np.array(batch_output))"
   ]
  },
  {
   "cell_type": "code",
   "execution_count": 30,
   "id": "34f94817",
   "metadata": {},
   "outputs": [
    {
     "name": "stdout",
     "output_type": "stream",
     "text": [
      "[['5.1' '3.5' '1.4' '0.2' 'Iris-setosa']\n",
      " ['4.9' '3.0' '1.4' '0.2' 'Iris-setosa']\n",
      " ['4.7' '3.2' '1.3' '0.2' 'Iris-setosa']]\n"
     ]
    }
   ],
   "source": [
    "import numpy as np\n",
    "for batch_input in batch_read(iris_filename, batch=3):\n",
    "    print (batch_input)\n",
    "    break"
   ]
  },
  {
   "cell_type": "markdown",
   "id": "bf69ade2",
   "metadata": {},
   "source": [
    "## Loading data from other files format \n",
    "\n",
    "Pandas package offers the posibility to load MS Excel, HDFS, SQL, JSON, HTML, and Stata datasets.\n",
    "\n",
    "Pandas reader that generally returns DataFrame object:\n",
    "\n",
    "- read_csv\n",
    "- read_excel\n",
    "- read_hdf\n",
    "- read_sql\n",
    "- read_json\n",
    "- read_msgpack (experimental)\n",
    "- read_html\n",
    "- read_gbq (experimental)\n",
    "- read_stata\n",
    "- read_clipboard\n",
    "- read_pickle"
   ]
  },
  {
   "cell_type": "markdown",
   "id": "42ca3ca9",
   "metadata": {},
   "source": [
    "#### Documentation on how to access data format\n",
    "http://pandas.pydata.org/pandas-docs/version/0.16/io.html.\n",
    "#### SQlite database\n",
    "https://www.sqlite.org/index.html\n",
    "#### Speed up saving and loading data with HDF5\n",
    "https://support.hdfgroup.org/HDF5/whatishdf5.html\n",
    "#### How to use h5py package\n",
    "http://docs.h5py.org/en/stable/"
   ]
  },
  {
   "cell_type": "markdown",
   "id": "7c0642e8",
   "metadata": {},
   "source": [
    "#### Putting data together: function concat of pandas"
   ]
  },
  {
   "cell_type": "code",
   "execution_count": 31,
   "id": "e3cb09b7",
   "metadata": {},
   "outputs": [
    {
     "data": {
      "text/html": [
       "<div>\n",
       "<style scoped>\n",
       "    .dataframe tbody tr th:only-of-type {\n",
       "        vertical-align: middle;\n",
       "    }\n",
       "\n",
       "    .dataframe tbody tr th {\n",
       "        vertical-align: top;\n",
       "    }\n",
       "\n",
       "    .dataframe thead th {\n",
       "        text-align: right;\n",
       "    }\n",
       "</style>\n",
       "<table border=\"1\" class=\"dataframe\">\n",
       "  <thead>\n",
       "    <tr style=\"text-align: right;\">\n",
       "      <th></th>\n",
       "      <th>0</th>\n",
       "      <th>1</th>\n",
       "    </tr>\n",
       "  </thead>\n",
       "  <tbody>\n",
       "    <tr>\n",
       "      <th>0</th>\n",
       "      <td>2</td>\n",
       "      <td>3</td>\n",
       "    </tr>\n",
       "    <tr>\n",
       "      <th>1</th>\n",
       "      <td>6</td>\n",
       "      <td>5</td>\n",
       "    </tr>\n",
       "    <tr>\n",
       "      <th>2</th>\n",
       "      <td>8</td>\n",
       "      <td>7</td>\n",
       "    </tr>\n",
       "    <tr>\n",
       "      <th>3</th>\n",
       "      <td>10</td>\n",
       "      <td>9</td>\n",
       "    </tr>\n",
       "    <tr>\n",
       "      <th>4</th>\n",
       "      <td>12</td>\n",
       "      <td>14</td>\n",
       "    </tr>\n",
       "  </tbody>\n",
       "</table>\n",
       "</div>"
      ],
      "text/plain": [
       "    0   1\n",
       "0   2   3\n",
       "1   6   5\n",
       "2   8   7\n",
       "3  10   9\n",
       "4  12  14"
      ]
     },
     "metadata": {},
     "output_type": "display_data"
    },
    {
     "data": {
      "text/html": [
       "<div>\n",
       "<style scoped>\n",
       "    .dataframe tbody tr th:only-of-type {\n",
       "        vertical-align: middle;\n",
       "    }\n",
       "\n",
       "    .dataframe tbody tr th {\n",
       "        vertical-align: top;\n",
       "    }\n",
       "\n",
       "    .dataframe thead th {\n",
       "        text-align: right;\n",
       "    }\n",
       "</style>\n",
       "<table border=\"1\" class=\"dataframe\">\n",
       "  <thead>\n",
       "    <tr style=\"text-align: right;\">\n",
       "      <th></th>\n",
       "      <th>Col1</th>\n",
       "      <th>Col2</th>\n",
       "      <th>Col3</th>\n",
       "      <th>Col4</th>\n",
       "      <th>0</th>\n",
       "      <th>1</th>\n",
       "    </tr>\n",
       "  </thead>\n",
       "  <tbody>\n",
       "    <tr>\n",
       "      <th>0</th>\n",
       "      <td>0</td>\n",
       "      <td>1.0</td>\n",
       "      <td>1.0</td>\n",
       "      <td>Hello World!</td>\n",
       "      <td>2</td>\n",
       "      <td>3</td>\n",
       "    </tr>\n",
       "    <tr>\n",
       "      <th>1</th>\n",
       "      <td>1</td>\n",
       "      <td>1.0</td>\n",
       "      <td>1.0</td>\n",
       "      <td>Hello World!</td>\n",
       "      <td>6</td>\n",
       "      <td>5</td>\n",
       "    </tr>\n",
       "    <tr>\n",
       "      <th>2</th>\n",
       "      <td>2</td>\n",
       "      <td>1.0</td>\n",
       "      <td>1.0</td>\n",
       "      <td>Hello World!</td>\n",
       "      <td>8</td>\n",
       "      <td>7</td>\n",
       "    </tr>\n",
       "    <tr>\n",
       "      <th>3</th>\n",
       "      <td>3</td>\n",
       "      <td>1.0</td>\n",
       "      <td>1.0</td>\n",
       "      <td>Hello World!</td>\n",
       "      <td>10</td>\n",
       "      <td>9</td>\n",
       "    </tr>\n",
       "    <tr>\n",
       "      <th>4</th>\n",
       "      <td>4</td>\n",
       "      <td>1.0</td>\n",
       "      <td>1.0</td>\n",
       "      <td>Hello World!</td>\n",
       "      <td>12</td>\n",
       "      <td>14</td>\n",
       "    </tr>\n",
       "  </tbody>\n",
       "</table>\n",
       "</div>"
      ],
      "text/plain": [
       "   Col1  Col2  Col3          Col4   0   1\n",
       "0     0   1.0   1.0  Hello World!   2   3\n",
       "1     1   1.0   1.0  Hello World!   6   5\n",
       "2     2   1.0   1.0  Hello World!   8   7\n",
       "3     3   1.0   1.0  Hello World!  10   9\n",
       "4     4   1.0   1.0  Hello World!  12  14"
      ]
     },
     "metadata": {},
     "output_type": "display_data"
    }
   ],
   "source": [
    "import pandas as pd\n",
    "\n",
    "df1 = pd.DataFrame({'Col1': range(5),\n",
    "'Col2': [1.0]*5,\n",
    "'Col3': 1.0,\n",
    "'Col4': 'Hello World!'})\n",
    "df2 = pd.concat([pd.Series([2,6,8,10,12]),pd.Series([3,5,7,9,14])], ignore_index = True, names = ['Col5','Col6'],axis=1 )\n",
    "df3 = pd.concat([df1,df2],axis = 1)\n",
    "display(df2)\n",
    "display(df3)"
   ]
  },
  {
   "cell_type": "markdown",
   "id": "b9f37bc8",
   "metadata": {},
   "source": [
    "### Check the type of elements in each columns\n",
    "\n",
    "We can use dtypes attribut to figure out the type of elements in each column. "
   ]
  },
  {
   "cell_type": "code",
   "execution_count": 34,
   "id": "d63c34ae",
   "metadata": {},
   "outputs": [
    {
     "data": {
      "text/plain": [
       "Date                  datetime64[ns]\n",
       "Temperature_city_1           float64\n",
       "Temperature_city_2           float64\n",
       "Temperature_city_3             int64\n",
       "Which_destination              int64\n",
       "dtype: object"
      ]
     },
     "execution_count": 34,
     "metadata": {},
     "output_type": "execute_result"
    }
   ],
   "source": [
    "fake_dataset.dtypes"
   ]
  },
  {
   "cell_type": "markdown",
   "id": "e2f75ede",
   "metadata": {},
   "source": [
    "You can also obtain information about your DataFrame structure and data\n",
    "types using the info() method "
   ]
  },
  {
   "cell_type": "code",
   "execution_count": 38,
   "id": "15a8ad43",
   "metadata": {},
   "outputs": [
    {
     "name": "stdout",
     "output_type": "stream",
     "text": [
      "<class 'pandas.core.frame.DataFrame'>\n",
      "RangeIndex: 6 entries, 0 to 5\n",
      "Data columns (total 5 columns):\n",
      " #   Column              Non-Null Count  Dtype         \n",
      "---  ------              --------------  -----         \n",
      " 0   Date                6 non-null      datetime64[ns]\n",
      " 1   Temperature_city_1  5 non-null      float64       \n",
      " 2   Temperature_city_2  5 non-null      float64       \n",
      " 3   Temperature_city_3  6 non-null      float64       \n",
      " 4   Which_destination   6 non-null      int64         \n",
      "dtypes: datetime64[ns](1), float64(3), int64(1)\n",
      "memory usage: 372.0 bytes\n"
     ]
    }
   ],
   "source": [
    "fake_dataset.info()"
   ]
  },
  {
   "cell_type": "markdown",
   "id": "e94ce4e3",
   "metadata": {},
   "source": [
    "We can use astype function to change the type integer/float of a column to another type float/integer"
   ]
  },
  {
   "cell_type": "code",
   "execution_count": 36,
   "id": "2d7eee71",
   "metadata": {},
   "outputs": [],
   "source": [
    "fake_dataset['Temperature_city_3'] = fake_dataset['Temperature_city_3'].astype(float)"
   ]
  },
  {
   "cell_type": "code",
   "execution_count": 37,
   "id": "beb90226",
   "metadata": {},
   "outputs": [
    {
     "data": {
      "text/plain": [
       "Date                  datetime64[ns]\n",
       "Temperature_city_1           float64\n",
       "Temperature_city_2           float64\n",
       "Temperature_city_3           float64\n",
       "Which_destination              int64\n",
       "dtype: object"
      ]
     },
     "execution_count": 37,
     "metadata": {},
     "output_type": "execute_result"
    }
   ],
   "source": [
    "fake_dataset.dtypes\n"
   ]
  },
  {
   "cell_type": "markdown",
   "id": "792312bc",
   "metadata": {},
   "source": [
    "## Data preprocesing\n",
    "#### Creating a mask\n",
    "A mask is a pandas serie of boolean values telling you whether a line is selected or not."
   ]
  },
  {
   "cell_type": "code",
   "execution_count": 39,
   "id": "0a3495f0",
   "metadata": {},
   "outputs": [
    {
     "data": {
      "text/plain": [
       "0      False\n",
       "1      False\n",
       "2      False\n",
       "3      False\n",
       "4      False\n",
       "       ...  \n",
       "145     True\n",
       "146     True\n",
       "147     True\n",
       "148     True\n",
       "149    False\n",
       "Name: sepal_length, Length: 150, dtype: bool"
      ]
     },
     "execution_count": 39,
     "metadata": {},
     "output_type": "execute_result"
    }
   ],
   "source": [
    "mask_feature = iris_df['sepal_length']>6\n",
    "mask_feature"
   ]
  },
  {
   "cell_type": "markdown",
   "id": "5f2876f5",
   "metadata": {},
   "source": [
    "#### substitute the target label width by another label"
   ]
  },
  {
   "cell_type": "code",
   "execution_count": 43,
   "id": "a8ddace4",
   "metadata": {},
   "outputs": [
    {
     "data": {
      "text/html": [
       "<div>\n",
       "<style scoped>\n",
       "    .dataframe tbody tr th:only-of-type {\n",
       "        vertical-align: middle;\n",
       "    }\n",
       "\n",
       "    .dataframe tbody tr th {\n",
       "        vertical-align: top;\n",
       "    }\n",
       "\n",
       "    .dataframe thead th {\n",
       "        text-align: right;\n",
       "    }\n",
       "</style>\n",
       "<table border=\"1\" class=\"dataframe\">\n",
       "  <thead>\n",
       "    <tr style=\"text-align: right;\">\n",
       "      <th></th>\n",
       "      <th>sepal_length</th>\n",
       "      <th>sepal_width</th>\n",
       "      <th>petal_length</th>\n",
       "      <th>petal_width</th>\n",
       "      <th>target</th>\n",
       "    </tr>\n",
       "  </thead>\n",
       "  <tbody>\n",
       "    <tr>\n",
       "      <th>0</th>\n",
       "      <td>5.1</td>\n",
       "      <td>3.5</td>\n",
       "      <td>1.4</td>\n",
       "      <td>0.2</td>\n",
       "      <td>new_label</td>\n",
       "    </tr>\n",
       "    <tr>\n",
       "      <th>1</th>\n",
       "      <td>4.9</td>\n",
       "      <td>3.0</td>\n",
       "      <td>1.4</td>\n",
       "      <td>0.2</td>\n",
       "      <td>new_label</td>\n",
       "    </tr>\n",
       "    <tr>\n",
       "      <th>2</th>\n",
       "      <td>4.7</td>\n",
       "      <td>3.2</td>\n",
       "      <td>1.3</td>\n",
       "      <td>0.2</td>\n",
       "      <td>new_label</td>\n",
       "    </tr>\n",
       "    <tr>\n",
       "      <th>3</th>\n",
       "      <td>4.6</td>\n",
       "      <td>3.1</td>\n",
       "      <td>1.5</td>\n",
       "      <td>0.2</td>\n",
       "      <td>new_label</td>\n",
       "    </tr>\n",
       "    <tr>\n",
       "      <th>4</th>\n",
       "      <td>5.0</td>\n",
       "      <td>3.6</td>\n",
       "      <td>1.4</td>\n",
       "      <td>0.2</td>\n",
       "      <td>new_label</td>\n",
       "    </tr>\n",
       "    <tr>\n",
       "      <th>...</th>\n",
       "      <td>...</td>\n",
       "      <td>...</td>\n",
       "      <td>...</td>\n",
       "      <td>...</td>\n",
       "      <td>...</td>\n",
       "    </tr>\n",
       "    <tr>\n",
       "      <th>145</th>\n",
       "      <td>6.7</td>\n",
       "      <td>3.0</td>\n",
       "      <td>5.2</td>\n",
       "      <td>2.3</td>\n",
       "      <td>Iris-virginica</td>\n",
       "    </tr>\n",
       "    <tr>\n",
       "      <th>146</th>\n",
       "      <td>6.3</td>\n",
       "      <td>2.5</td>\n",
       "      <td>5.0</td>\n",
       "      <td>1.9</td>\n",
       "      <td>Iris-virginica</td>\n",
       "    </tr>\n",
       "    <tr>\n",
       "      <th>147</th>\n",
       "      <td>6.5</td>\n",
       "      <td>3.0</td>\n",
       "      <td>5.2</td>\n",
       "      <td>2.0</td>\n",
       "      <td>Iris-virginica</td>\n",
       "    </tr>\n",
       "    <tr>\n",
       "      <th>148</th>\n",
       "      <td>6.2</td>\n",
       "      <td>3.4</td>\n",
       "      <td>5.4</td>\n",
       "      <td>2.3</td>\n",
       "      <td>Iris-virginica</td>\n",
       "    </tr>\n",
       "    <tr>\n",
       "      <th>149</th>\n",
       "      <td>5.9</td>\n",
       "      <td>3.0</td>\n",
       "      <td>5.1</td>\n",
       "      <td>1.8</td>\n",
       "      <td>Iris-virginica</td>\n",
       "    </tr>\n",
       "  </tbody>\n",
       "</table>\n",
       "<p>150 rows × 5 columns</p>\n",
       "</div>"
      ],
      "text/plain": [
       "     sepal_length  sepal_width  petal_length  petal_width          target\n",
       "0             5.1          3.5           1.4          0.2       new_label\n",
       "1             4.9          3.0           1.4          0.2       new_label\n",
       "2             4.7          3.2           1.3          0.2       new_label\n",
       "3             4.6          3.1           1.5          0.2       new_label\n",
       "4             5.0          3.6           1.4          0.2       new_label\n",
       "..            ...          ...           ...          ...             ...\n",
       "145           6.7          3.0           5.2          2.3  Iris-virginica\n",
       "146           6.3          2.5           5.0          1.9  Iris-virginica\n",
       "147           6.5          3.0           5.2          2.0  Iris-virginica\n",
       "148           6.2          3.4           5.4          2.3  Iris-virginica\n",
       "149           5.9          3.0           5.1          1.8  Iris-virginica\n",
       "\n",
       "[150 rows x 5 columns]"
      ]
     },
     "execution_count": 43,
     "metadata": {},
     "output_type": "execute_result"
    }
   ],
   "source": [
    "mask_target = iris_df['target'] == 'Iris-setosa'\n",
    "iris_df.loc[mask_target, 'target']= \"new_label\"\n",
    "iris_df"
   ]
  },
  {
   "cell_type": "markdown",
   "id": "823c6340",
   "metadata": {},
   "source": [
    "#### To see the list of label"
   ]
  },
  {
   "cell_type": "code",
   "execution_count": 44,
   "id": "2992681b",
   "metadata": {},
   "outputs": [
    {
     "data": {
      "text/plain": [
       "array(['new_label', 'Iris-versicolor', 'Iris-virginica'], dtype=object)"
      ]
     },
     "execution_count": 44,
     "metadata": {},
     "output_type": "execute_result"
    }
   ],
   "source": [
    "iris_df['target'].unique()"
   ]
  },
  {
   "cell_type": "markdown",
   "id": "2cc9f874",
   "metadata": {},
   "source": [
    "#### To compute some statistics by using groupby() method\n",
    "\n",
    "*Computing the average of each column grouped by targets*"
   ]
  },
  {
   "cell_type": "code",
   "execution_count": 46,
   "id": "5e4cd7c8",
   "metadata": {},
   "outputs": [
    {
     "data": {
      "text/html": [
       "<div>\n",
       "<style scoped>\n",
       "    .dataframe tbody tr th:only-of-type {\n",
       "        vertical-align: middle;\n",
       "    }\n",
       "\n",
       "    .dataframe tbody tr th {\n",
       "        vertical-align: top;\n",
       "    }\n",
       "\n",
       "    .dataframe thead th {\n",
       "        text-align: right;\n",
       "    }\n",
       "</style>\n",
       "<table border=\"1\" class=\"dataframe\">\n",
       "  <thead>\n",
       "    <tr style=\"text-align: right;\">\n",
       "      <th></th>\n",
       "      <th>sepal_length</th>\n",
       "      <th>sepal_width</th>\n",
       "      <th>petal_length</th>\n",
       "      <th>petal_width</th>\n",
       "    </tr>\n",
       "    <tr>\n",
       "      <th>target</th>\n",
       "      <th></th>\n",
       "      <th></th>\n",
       "      <th></th>\n",
       "      <th></th>\n",
       "    </tr>\n",
       "  </thead>\n",
       "  <tbody>\n",
       "    <tr>\n",
       "      <th>Iris-versicolor</th>\n",
       "      <td>5.936</td>\n",
       "      <td>2.770</td>\n",
       "      <td>4.260</td>\n",
       "      <td>1.326</td>\n",
       "    </tr>\n",
       "    <tr>\n",
       "      <th>Iris-virginica</th>\n",
       "      <td>6.588</td>\n",
       "      <td>2.974</td>\n",
       "      <td>5.552</td>\n",
       "      <td>2.026</td>\n",
       "    </tr>\n",
       "    <tr>\n",
       "      <th>new_label</th>\n",
       "      <td>5.006</td>\n",
       "      <td>3.418</td>\n",
       "      <td>1.464</td>\n",
       "      <td>0.244</td>\n",
       "    </tr>\n",
       "  </tbody>\n",
       "</table>\n",
       "</div>"
      ],
      "text/plain": [
       "                 sepal_length  sepal_width  petal_length  petal_width\n",
       "target                                                               \n",
       "Iris-versicolor         5.936        2.770         4.260        1.326\n",
       "Iris-virginica          6.588        2.974         5.552        2.026\n",
       "new_label               5.006        3.418         1.464        0.244"
      ]
     },
     "execution_count": 46,
     "metadata": {},
     "output_type": "execute_result"
    }
   ],
   "source": [
    "grouped_target_mean = iris_df.groupby(['target']).mean()\n",
    "grouped_target_mean"
   ]
  },
  {
   "cell_type": "markdown",
   "id": "115f7a95",
   "metadata": {},
   "source": [
    "*Computing the variance of each column grouped by targets*"
   ]
  },
  {
   "cell_type": "code",
   "execution_count": 47,
   "id": "b66a345e",
   "metadata": {},
   "outputs": [
    {
     "data": {
      "text/html": [
       "<div>\n",
       "<style scoped>\n",
       "    .dataframe tbody tr th:only-of-type {\n",
       "        vertical-align: middle;\n",
       "    }\n",
       "\n",
       "    .dataframe tbody tr th {\n",
       "        vertical-align: top;\n",
       "    }\n",
       "\n",
       "    .dataframe thead th {\n",
       "        text-align: right;\n",
       "    }\n",
       "</style>\n",
       "<table border=\"1\" class=\"dataframe\">\n",
       "  <thead>\n",
       "    <tr style=\"text-align: right;\">\n",
       "      <th></th>\n",
       "      <th>sepal_length</th>\n",
       "      <th>sepal_width</th>\n",
       "      <th>petal_length</th>\n",
       "      <th>petal_width</th>\n",
       "    </tr>\n",
       "    <tr>\n",
       "      <th>target</th>\n",
       "      <th></th>\n",
       "      <th></th>\n",
       "      <th></th>\n",
       "      <th></th>\n",
       "    </tr>\n",
       "  </thead>\n",
       "  <tbody>\n",
       "    <tr>\n",
       "      <th>Iris-versicolor</th>\n",
       "      <td>0.266433</td>\n",
       "      <td>0.098469</td>\n",
       "      <td>0.220816</td>\n",
       "      <td>0.039106</td>\n",
       "    </tr>\n",
       "    <tr>\n",
       "      <th>Iris-virginica</th>\n",
       "      <td>0.404343</td>\n",
       "      <td>0.104004</td>\n",
       "      <td>0.304588</td>\n",
       "      <td>0.075433</td>\n",
       "    </tr>\n",
       "    <tr>\n",
       "      <th>new_label</th>\n",
       "      <td>0.124249</td>\n",
       "      <td>0.145180</td>\n",
       "      <td>0.030106</td>\n",
       "      <td>0.011494</td>\n",
       "    </tr>\n",
       "  </tbody>\n",
       "</table>\n",
       "</div>"
      ],
      "text/plain": [
       "                 sepal_length  sepal_width  petal_length  petal_width\n",
       "target                                                               \n",
       "Iris-versicolor      0.266433     0.098469      0.220816     0.039106\n",
       "Iris-virginica       0.404343     0.104004      0.304588     0.075433\n",
       "new_label            0.124249     0.145180      0.030106     0.011494"
      ]
     },
     "execution_count": 47,
     "metadata": {},
     "output_type": "execute_result"
    }
   ],
   "source": [
    "grouped_target_var = iris_df.groupby(['target']).var()\n",
    "grouped_target_var"
   ]
  },
  {
   "cell_type": "markdown",
   "id": "f4d88049",
   "metadata": {},
   "source": [
    "#### Compute multiple statistics in one time with agg method"
   ]
  },
  {
   "cell_type": "code",
   "execution_count": 49,
   "id": "fed68508",
   "metadata": {},
   "outputs": [
    {
     "data": {
      "text/html": [
       "<div>\n",
       "<style scoped>\n",
       "    .dataframe tbody tr th:only-of-type {\n",
       "        vertical-align: middle;\n",
       "    }\n",
       "\n",
       "    .dataframe tbody tr th {\n",
       "        vertical-align: top;\n",
       "    }\n",
       "\n",
       "    .dataframe thead tr th {\n",
       "        text-align: left;\n",
       "    }\n",
       "\n",
       "    .dataframe thead tr:last-of-type th {\n",
       "        text-align: right;\n",
       "    }\n",
       "</style>\n",
       "<table border=\"1\" class=\"dataframe\">\n",
       "  <thead>\n",
       "    <tr>\n",
       "      <th></th>\n",
       "      <th colspan=\"4\" halign=\"left\">sepal_length</th>\n",
       "      <th colspan=\"4\" halign=\"left\">sepal_width</th>\n",
       "      <th colspan=\"4\" halign=\"left\">petal_length</th>\n",
       "      <th colspan=\"4\" halign=\"left\">petal_width</th>\n",
       "    </tr>\n",
       "    <tr>\n",
       "      <th></th>\n",
       "      <th>min</th>\n",
       "      <th>max</th>\n",
       "      <th>std</th>\n",
       "      <th>mean</th>\n",
       "      <th>min</th>\n",
       "      <th>max</th>\n",
       "      <th>std</th>\n",
       "      <th>mean</th>\n",
       "      <th>min</th>\n",
       "      <th>max</th>\n",
       "      <th>std</th>\n",
       "      <th>mean</th>\n",
       "      <th>min</th>\n",
       "      <th>max</th>\n",
       "      <th>std</th>\n",
       "      <th>mean</th>\n",
       "    </tr>\n",
       "    <tr>\n",
       "      <th>target</th>\n",
       "      <th></th>\n",
       "      <th></th>\n",
       "      <th></th>\n",
       "      <th></th>\n",
       "      <th></th>\n",
       "      <th></th>\n",
       "      <th></th>\n",
       "      <th></th>\n",
       "      <th></th>\n",
       "      <th></th>\n",
       "      <th></th>\n",
       "      <th></th>\n",
       "      <th></th>\n",
       "      <th></th>\n",
       "      <th></th>\n",
       "      <th></th>\n",
       "    </tr>\n",
       "  </thead>\n",
       "  <tbody>\n",
       "    <tr>\n",
       "      <th>Iris-versicolor</th>\n",
       "      <td>4.9</td>\n",
       "      <td>7.0</td>\n",
       "      <td>0.516171</td>\n",
       "      <td>5.936</td>\n",
       "      <td>2.0</td>\n",
       "      <td>3.4</td>\n",
       "      <td>0.313798</td>\n",
       "      <td>2.770</td>\n",
       "      <td>3.0</td>\n",
       "      <td>5.1</td>\n",
       "      <td>0.469911</td>\n",
       "      <td>4.260</td>\n",
       "      <td>1.0</td>\n",
       "      <td>1.8</td>\n",
       "      <td>0.197753</td>\n",
       "      <td>1.326</td>\n",
       "    </tr>\n",
       "    <tr>\n",
       "      <th>Iris-virginica</th>\n",
       "      <td>4.9</td>\n",
       "      <td>7.9</td>\n",
       "      <td>0.635880</td>\n",
       "      <td>6.588</td>\n",
       "      <td>2.2</td>\n",
       "      <td>3.8</td>\n",
       "      <td>0.322497</td>\n",
       "      <td>2.974</td>\n",
       "      <td>4.5</td>\n",
       "      <td>6.9</td>\n",
       "      <td>0.551895</td>\n",
       "      <td>5.552</td>\n",
       "      <td>1.4</td>\n",
       "      <td>2.5</td>\n",
       "      <td>0.274650</td>\n",
       "      <td>2.026</td>\n",
       "    </tr>\n",
       "    <tr>\n",
       "      <th>new_label</th>\n",
       "      <td>4.3</td>\n",
       "      <td>5.8</td>\n",
       "      <td>0.352490</td>\n",
       "      <td>5.006</td>\n",
       "      <td>2.3</td>\n",
       "      <td>4.4</td>\n",
       "      <td>0.381024</td>\n",
       "      <td>3.418</td>\n",
       "      <td>1.0</td>\n",
       "      <td>1.9</td>\n",
       "      <td>0.173511</td>\n",
       "      <td>1.464</td>\n",
       "      <td>0.1</td>\n",
       "      <td>0.6</td>\n",
       "      <td>0.107210</td>\n",
       "      <td>0.244</td>\n",
       "    </tr>\n",
       "  </tbody>\n",
       "</table>\n",
       "</div>"
      ],
      "text/plain": [
       "                sepal_length                       sepal_width                 \\\n",
       "                         min  max       std   mean         min  max       std   \n",
       "target                                                                          \n",
       "Iris-versicolor          4.9  7.0  0.516171  5.936         2.0  3.4  0.313798   \n",
       "Iris-virginica           4.9  7.9  0.635880  6.588         2.2  3.8  0.322497   \n",
       "new_label                4.3  5.8  0.352490  5.006         2.3  4.4  0.381024   \n",
       "\n",
       "                       petal_length                       petal_width       \\\n",
       "                  mean          min  max       std   mean         min  max   \n",
       "target                                                                       \n",
       "Iris-versicolor  2.770          3.0  5.1  0.469911  4.260         1.0  1.8   \n",
       "Iris-virginica   2.974          4.5  6.9  0.551895  5.552         1.4  2.5   \n",
       "new_label        3.418          1.0  1.9  0.173511  1.464         0.1  0.6   \n",
       "\n",
       "                                  \n",
       "                      std   mean  \n",
       "target                            \n",
       "Iris-versicolor  0.197753  1.326  \n",
       "Iris-virginica   0.274650  2.026  \n",
       "new_label        0.107210  0.244  "
      ]
     },
     "execution_count": 49,
     "metadata": {},
     "output_type": "execute_result"
    }
   ],
   "source": [
    "funcs = {'sepal_length':['min','max','std','mean'],'sepal_width':['min','max','std','mean'],\n",
    "         \"petal_length\":['min','max','std','mean'],'petal_width':['min','max','std','mean']}\n",
    "\n",
    "grouped_target_aggregate = iris_df.groupby(['target']).agg(funcs)\n",
    "grouped_target_aggregate"
   ]
  },
  {
   "cell_type": "markdown",
   "id": "e89e9513",
   "metadata": {},
   "source": [
    "#### To sort different informations from the dataframe"
   ]
  },
  {
   "cell_type": "code",
   "execution_count": 54,
   "id": "bece32e9",
   "metadata": {},
   "outputs": [
    {
     "data": {
      "text/html": [
       "<div>\n",
       "<style scoped>\n",
       "    .dataframe tbody tr th:only-of-type {\n",
       "        vertical-align: middle;\n",
       "    }\n",
       "\n",
       "    .dataframe tbody tr th {\n",
       "        vertical-align: top;\n",
       "    }\n",
       "\n",
       "    .dataframe thead th {\n",
       "        text-align: right;\n",
       "    }\n",
       "</style>\n",
       "<table border=\"1\" class=\"dataframe\">\n",
       "  <thead>\n",
       "    <tr style=\"text-align: right;\">\n",
       "      <th></th>\n",
       "      <th>sepal_length</th>\n",
       "      <th>sepal_width</th>\n",
       "      <th>petal_length</th>\n",
       "      <th>petal_width</th>\n",
       "      <th>target</th>\n",
       "    </tr>\n",
       "  </thead>\n",
       "  <tbody>\n",
       "    <tr>\n",
       "      <th>0</th>\n",
       "      <td>5.1</td>\n",
       "      <td>3.5</td>\n",
       "      <td>1.4</td>\n",
       "      <td>0.2</td>\n",
       "      <td>new_label</td>\n",
       "    </tr>\n",
       "    <tr>\n",
       "      <th>1</th>\n",
       "      <td>4.9</td>\n",
       "      <td>3.0</td>\n",
       "      <td>1.4</td>\n",
       "      <td>0.2</td>\n",
       "      <td>new_label</td>\n",
       "    </tr>\n",
       "    <tr>\n",
       "      <th>2</th>\n",
       "      <td>4.7</td>\n",
       "      <td>3.2</td>\n",
       "      <td>1.3</td>\n",
       "      <td>0.2</td>\n",
       "      <td>new_label</td>\n",
       "    </tr>\n",
       "    <tr>\n",
       "      <th>3</th>\n",
       "      <td>4.6</td>\n",
       "      <td>3.1</td>\n",
       "      <td>1.5</td>\n",
       "      <td>0.2</td>\n",
       "      <td>new_label</td>\n",
       "    </tr>\n",
       "    <tr>\n",
       "      <th>4</th>\n",
       "      <td>5.0</td>\n",
       "      <td>3.6</td>\n",
       "      <td>1.4</td>\n",
       "      <td>0.2</td>\n",
       "      <td>new_label</td>\n",
       "    </tr>\n",
       "  </tbody>\n",
       "</table>\n",
       "</div>"
      ],
      "text/plain": [
       "   sepal_length  sepal_width  petal_length  petal_width     target\n",
       "0           5.1          3.5           1.4          0.2  new_label\n",
       "1           4.9          3.0           1.4          0.2  new_label\n",
       "2           4.7          3.2           1.3          0.2  new_label\n",
       "3           4.6          3.1           1.5          0.2  new_label\n",
       "4           5.0          3.6           1.4          0.2  new_label"
      ]
     },
     "execution_count": 54,
     "metadata": {},
     "output_type": "execute_result"
    }
   ],
   "source": [
    "iris_df.sort_index().head()"
   ]
  },
  {
   "cell_type": "markdown",
   "id": "253121c6",
   "metadata": {},
   "source": [
    "#### Use of apply() method to operate row/column_wise"
   ]
  },
  {
   "cell_type": "markdown",
   "id": "b5dac8a7",
   "metadata": {},
   "source": [
    "More generically, the apply() pandas method is able to perform any row-wise or column-\n",
    "wise operation programmatically\n",
    "\n",
    "*counting the number of non zero element in each line*"
   ]
  },
  {
   "cell_type": "code",
   "execution_count": 57,
   "id": "79c9fc98",
   "metadata": {},
   "outputs": [
    {
     "data": {
      "text/plain": [
       "0    5\n",
       "1    5\n",
       "2    5\n",
       "3    5\n",
       "4    5\n",
       "dtype: int64"
      ]
     },
     "execution_count": 57,
     "metadata": {},
     "output_type": "execute_result"
    }
   ],
   "source": [
    "apply1 = iris_df.apply(np.count_nonzero, axis=1).head()\n",
    "apply1"
   ]
  },
  {
   "cell_type": "markdown",
   "id": "0f4a4a00",
   "metadata": {},
   "source": [
    "*counting the number of non zero element in each line*"
   ]
  },
  {
   "cell_type": "code",
   "execution_count": 58,
   "id": "89c59e5a",
   "metadata": {},
   "outputs": [
    {
     "data": {
      "text/plain": [
       "sepal_length    150\n",
       "sepal_width     150\n",
       "petal_length    150\n",
       "petal_width     150\n",
       "target          150\n",
       "dtype: int64"
      ]
     },
     "execution_count": 58,
     "metadata": {},
     "output_type": "execute_result"
    }
   ],
   "source": [
    "apply2 = iris_df.apply(np.count_nonzero, axis = 0)\n",
    "apply2"
   ]
  },
  {
   "cell_type": "markdown",
   "id": "a8a6e417",
   "metadata": {},
   "source": [
    "*Apply method by using another variable*"
   ]
  },
  {
   "cell_type": "code",
   "execution_count": 80,
   "id": "107a0409",
   "metadata": {},
   "outputs": [
    {
     "data": {
      "text/html": [
       "<div>\n",
       "<style scoped>\n",
       "    .dataframe tbody tr th:only-of-type {\n",
       "        vertical-align: middle;\n",
       "    }\n",
       "\n",
       "    .dataframe tbody tr th {\n",
       "        vertical-align: top;\n",
       "    }\n",
       "\n",
       "    .dataframe thead th {\n",
       "        text-align: right;\n",
       "    }\n",
       "</style>\n",
       "<table border=\"1\" class=\"dataframe\">\n",
       "  <thead>\n",
       "    <tr style=\"text-align: right;\">\n",
       "      <th></th>\n",
       "      <th>sepal_length</th>\n",
       "      <th>sepal_width</th>\n",
       "      <th>petal_length</th>\n",
       "      <th>petal_width</th>\n",
       "    </tr>\n",
       "  </thead>\n",
       "  <tbody>\n",
       "    <tr>\n",
       "      <th>0</th>\n",
       "      <td>26.01</td>\n",
       "      <td>12.25</td>\n",
       "      <td>1.96</td>\n",
       "      <td>0.04</td>\n",
       "    </tr>\n",
       "    <tr>\n",
       "      <th>1</th>\n",
       "      <td>24.01</td>\n",
       "      <td>9.00</td>\n",
       "      <td>1.96</td>\n",
       "      <td>0.04</td>\n",
       "    </tr>\n",
       "    <tr>\n",
       "      <th>2</th>\n",
       "      <td>22.09</td>\n",
       "      <td>10.24</td>\n",
       "      <td>1.69</td>\n",
       "      <td>0.04</td>\n",
       "    </tr>\n",
       "    <tr>\n",
       "      <th>3</th>\n",
       "      <td>21.16</td>\n",
       "      <td>9.61</td>\n",
       "      <td>2.25</td>\n",
       "      <td>0.04</td>\n",
       "    </tr>\n",
       "    <tr>\n",
       "      <th>4</th>\n",
       "      <td>25.00</td>\n",
       "      <td>12.96</td>\n",
       "      <td>1.96</td>\n",
       "      <td>0.04</td>\n",
       "    </tr>\n",
       "    <tr>\n",
       "      <th>...</th>\n",
       "      <td>...</td>\n",
       "      <td>...</td>\n",
       "      <td>...</td>\n",
       "      <td>...</td>\n",
       "    </tr>\n",
       "    <tr>\n",
       "      <th>145</th>\n",
       "      <td>44.89</td>\n",
       "      <td>9.00</td>\n",
       "      <td>27.04</td>\n",
       "      <td>5.29</td>\n",
       "    </tr>\n",
       "    <tr>\n",
       "      <th>146</th>\n",
       "      <td>39.69</td>\n",
       "      <td>6.25</td>\n",
       "      <td>25.00</td>\n",
       "      <td>3.61</td>\n",
       "    </tr>\n",
       "    <tr>\n",
       "      <th>147</th>\n",
       "      <td>42.25</td>\n",
       "      <td>9.00</td>\n",
       "      <td>27.04</td>\n",
       "      <td>4.00</td>\n",
       "    </tr>\n",
       "    <tr>\n",
       "      <th>148</th>\n",
       "      <td>38.44</td>\n",
       "      <td>11.56</td>\n",
       "      <td>29.16</td>\n",
       "      <td>5.29</td>\n",
       "    </tr>\n",
       "    <tr>\n",
       "      <th>149</th>\n",
       "      <td>34.81</td>\n",
       "      <td>9.00</td>\n",
       "      <td>26.01</td>\n",
       "      <td>3.24</td>\n",
       "    </tr>\n",
       "  </tbody>\n",
       "</table>\n",
       "<p>150 rows × 4 columns</p>\n",
       "</div>"
      ],
      "text/plain": [
       "     sepal_length  sepal_width  petal_length  petal_width\n",
       "0           26.01        12.25          1.96         0.04\n",
       "1           24.01         9.00          1.96         0.04\n",
       "2           22.09        10.24          1.69         0.04\n",
       "3           21.16         9.61          2.25         0.04\n",
       "4           25.00        12.96          1.96         0.04\n",
       "..            ...          ...           ...          ...\n",
       "145         44.89         9.00         27.04         5.29\n",
       "146         39.69         6.25         25.00         3.61\n",
       "147         42.25         9.00         27.04         4.00\n",
       "148         38.44        11.56         29.16         5.29\n",
       "149         34.81         9.00         26.01         3.24\n",
       "\n",
       "[150 rows x 4 columns]"
      ]
     },
     "execution_count": 80,
     "metadata": {},
     "output_type": "execute_result"
    }
   ],
   "source": [
    "def square(x):\n",
    "    return x**2\n",
    "iris_column_names = iris_df.columns\n",
    "type(iris_column_names)\n",
    "iris_column_names = iris_column_names.delete(len(iris_column_names)-1)\n",
    "iris_column_names\n",
    "square_iris = iris_df[iris_column_names].apply(square)\n",
    "square_iris"
   ]
  },
  {
   "cell_type": "markdown",
   "id": "556d3afa",
   "metadata": {},
   "source": [
    "#### Use of applymap() method to operate element_wise\n",
    "*length of string representation of each cells*"
   ]
  },
  {
   "cell_type": "code",
   "execution_count": 60,
   "id": "7eaa3c7a",
   "metadata": {},
   "outputs": [
    {
     "data": {
      "text/html": [
       "<div>\n",
       "<style scoped>\n",
       "    .dataframe tbody tr th:only-of-type {\n",
       "        vertical-align: middle;\n",
       "    }\n",
       "\n",
       "    .dataframe tbody tr th {\n",
       "        vertical-align: top;\n",
       "    }\n",
       "\n",
       "    .dataframe thead th {\n",
       "        text-align: right;\n",
       "    }\n",
       "</style>\n",
       "<table border=\"1\" class=\"dataframe\">\n",
       "  <thead>\n",
       "    <tr style=\"text-align: right;\">\n",
       "      <th></th>\n",
       "      <th>sepal_length</th>\n",
       "      <th>sepal_width</th>\n",
       "      <th>petal_length</th>\n",
       "      <th>petal_width</th>\n",
       "      <th>target</th>\n",
       "    </tr>\n",
       "  </thead>\n",
       "  <tbody>\n",
       "    <tr>\n",
       "      <th>0</th>\n",
       "      <td>3</td>\n",
       "      <td>3</td>\n",
       "      <td>3</td>\n",
       "      <td>3</td>\n",
       "      <td>9</td>\n",
       "    </tr>\n",
       "    <tr>\n",
       "      <th>1</th>\n",
       "      <td>3</td>\n",
       "      <td>3</td>\n",
       "      <td>3</td>\n",
       "      <td>3</td>\n",
       "      <td>9</td>\n",
       "    </tr>\n",
       "    <tr>\n",
       "      <th>2</th>\n",
       "      <td>3</td>\n",
       "      <td>3</td>\n",
       "      <td>3</td>\n",
       "      <td>3</td>\n",
       "      <td>9</td>\n",
       "    </tr>\n",
       "    <tr>\n",
       "      <th>3</th>\n",
       "      <td>3</td>\n",
       "      <td>3</td>\n",
       "      <td>3</td>\n",
       "      <td>3</td>\n",
       "      <td>9</td>\n",
       "    </tr>\n",
       "    <tr>\n",
       "      <th>4</th>\n",
       "      <td>3</td>\n",
       "      <td>3</td>\n",
       "      <td>3</td>\n",
       "      <td>3</td>\n",
       "      <td>9</td>\n",
       "    </tr>\n",
       "  </tbody>\n",
       "</table>\n",
       "</div>"
      ],
      "text/plain": [
       "   sepal_length  sepal_width  petal_length  petal_width  target\n",
       "0             3            3             3            3       9\n",
       "1             3            3             3            3       9\n",
       "2             3            3             3            3       9\n",
       "3             3            3             3            3       9\n",
       "4             3            3             3            3       9"
      ]
     },
     "execution_count": 60,
     "metadata": {},
     "output_type": "execute_result"
    }
   ],
   "source": [
    "applymapp = iris_df.applymap(lambda x: len(str(x))).head()\n",
    "applymapp"
   ]
  },
  {
   "cell_type": "markdown",
   "id": "64c8a741",
   "metadata": {},
   "source": [
    "## Data Selection \n",
    "\n",
    "#### Importation of Dataset+ Indexing dataframe"
   ]
  },
  {
   "cell_type": "code",
   "execution_count": 81,
   "id": "1a005e70",
   "metadata": {},
   "outputs": [
    {
     "data": {
      "text/html": [
       "<div>\n",
       "<style scoped>\n",
       "    .dataframe tbody tr th:only-of-type {\n",
       "        vertical-align: middle;\n",
       "    }\n",
       "\n",
       "    .dataframe tbody tr th {\n",
       "        vertical-align: top;\n",
       "    }\n",
       "\n",
       "    .dataframe thead th {\n",
       "        text-align: right;\n",
       "    }\n",
       "</style>\n",
       "<table border=\"1\" class=\"dataframe\">\n",
       "  <thead>\n",
       "    <tr style=\"text-align: right;\">\n",
       "      <th></th>\n",
       "      <th>val1</th>\n",
       "      <th>val2</th>\n",
       "      <th>val3</th>\n",
       "    </tr>\n",
       "    <tr>\n",
       "      <th>n</th>\n",
       "      <th></th>\n",
       "      <th></th>\n",
       "      <th></th>\n",
       "    </tr>\n",
       "  </thead>\n",
       "  <tbody>\n",
       "    <tr>\n",
       "      <th>100</th>\n",
       "      <td>10</td>\n",
       "      <td>10</td>\n",
       "      <td>C</td>\n",
       "    </tr>\n",
       "    <tr>\n",
       "      <th>101</th>\n",
       "      <td>10</td>\n",
       "      <td>20</td>\n",
       "      <td>C</td>\n",
       "    </tr>\n",
       "    <tr>\n",
       "      <th>102</th>\n",
       "      <td>10</td>\n",
       "      <td>30</td>\n",
       "      <td>B</td>\n",
       "    </tr>\n",
       "    <tr>\n",
       "      <th>103</th>\n",
       "      <td>10</td>\n",
       "      <td>40</td>\n",
       "      <td>B</td>\n",
       "    </tr>\n",
       "    <tr>\n",
       "      <th>104</th>\n",
       "      <td>10</td>\n",
       "      <td>50</td>\n",
       "      <td>A</td>\n",
       "    </tr>\n",
       "  </tbody>\n",
       "</table>\n",
       "</div>"
      ],
      "text/plain": [
       "     val1  val2 val3\n",
       "n                   \n",
       "100    10    10    C\n",
       "101    10    20    C\n",
       "102    10    30    B\n",
       "103    10    40    B\n",
       "104    10    50    A"
      ]
     },
     "execution_count": 81,
     "metadata": {},
     "output_type": "execute_result"
    }
   ],
   "source": [
    "import pandas as pd \n",
    "df = pd.read_csv('/home/fabrice/Desktop/Data_sciences_projects/new_dataset.csv',index_col = 0)\n",
    "df"
   ]
  },
  {
   "cell_type": "markdown",
   "id": "76dff336",
   "metadata": {},
   "source": [
    "#### Select element in DataFrame"
   ]
  },
  {
   "cell_type": "code",
   "execution_count": 82,
   "id": "123d3b20",
   "metadata": {},
   "outputs": [
    {
     "data": {
      "text/plain": [
       "'B'"
      ]
     },
     "execution_count": 82,
     "metadata": {},
     "output_type": "execute_result"
    }
   ],
   "source": [
    "df['val3'][103] # select with []"
   ]
  },
  {
   "cell_type": "code",
   "execution_count": 83,
   "id": "ce98afa4",
   "metadata": {},
   "outputs": [
    {
     "data": {
      "text/plain": [
       "'B'"
      ]
     },
     "execution_count": 83,
     "metadata": {},
     "output_type": "execute_result"
    }
   ],
   "source": [
    "df.loc[103, \"val3\"] # select with loc"
   ]
  },
  {
   "cell_type": "code",
   "execution_count": 84,
   "id": "05f5b395",
   "metadata": {},
   "outputs": [
    {
     "data": {
      "text/plain": [
       "'B'"
      ]
     },
     "execution_count": 84,
     "metadata": {},
     "output_type": "execute_result"
    }
   ],
   "source": [
    "df.iloc[3,2]  # Select with iloc() me "
   ]
  },
  {
   "cell_type": "markdown",
   "id": "0d767f1b",
   "metadata": {},
   "source": [
    "#### Retreival of sub matrices"
   ]
  },
  {
   "cell_type": "code",
   "execution_count": 85,
   "id": "c254871d",
   "metadata": {},
   "outputs": [
    {
     "data": {
      "text/html": [
       "<div>\n",
       "<style scoped>\n",
       "    .dataframe tbody tr th:only-of-type {\n",
       "        vertical-align: middle;\n",
       "    }\n",
       "\n",
       "    .dataframe tbody tr th {\n",
       "        vertical-align: top;\n",
       "    }\n",
       "\n",
       "    .dataframe thead th {\n",
       "        text-align: right;\n",
       "    }\n",
       "</style>\n",
       "<table border=\"1\" class=\"dataframe\">\n",
       "  <thead>\n",
       "    <tr style=\"text-align: right;\">\n",
       "      <th></th>\n",
       "      <th>val2</th>\n",
       "      <th>val3</th>\n",
       "    </tr>\n",
       "    <tr>\n",
       "      <th>n</th>\n",
       "      <th></th>\n",
       "      <th></th>\n",
       "    </tr>\n",
       "  </thead>\n",
       "  <tbody>\n",
       "    <tr>\n",
       "      <th>100</th>\n",
       "      <td>10</td>\n",
       "      <td>C</td>\n",
       "    </tr>\n",
       "    <tr>\n",
       "      <th>101</th>\n",
       "      <td>20</td>\n",
       "      <td>C</td>\n",
       "    </tr>\n",
       "  </tbody>\n",
       "</table>\n",
       "</div>"
      ],
      "text/plain": [
       "     val2 val3\n",
       "n             \n",
       "100    10    C\n",
       "101    20    C"
      ]
     },
     "execution_count": 85,
     "metadata": {},
     "output_type": "execute_result"
    }
   ],
   "source": [
    "df[['val2','val3']][0:2]"
   ]
  },
  {
   "cell_type": "code",
   "execution_count": 89,
   "id": "10eca59f",
   "metadata": {},
   "outputs": [
    {
     "data": {
      "text/html": [
       "<div>\n",
       "<style scoped>\n",
       "    .dataframe tbody tr th:only-of-type {\n",
       "        vertical-align: middle;\n",
       "    }\n",
       "\n",
       "    .dataframe tbody tr th {\n",
       "        vertical-align: top;\n",
       "    }\n",
       "\n",
       "    .dataframe thead th {\n",
       "        text-align: right;\n",
       "    }\n",
       "</style>\n",
       "<table border=\"1\" class=\"dataframe\">\n",
       "  <thead>\n",
       "    <tr style=\"text-align: right;\">\n",
       "      <th></th>\n",
       "      <th>val2</th>\n",
       "      <th>val3</th>\n",
       "    </tr>\n",
       "    <tr>\n",
       "      <th>n</th>\n",
       "      <th></th>\n",
       "      <th></th>\n",
       "    </tr>\n",
       "  </thead>\n",
       "  <tbody>\n",
       "    <tr>\n",
       "      <th>100</th>\n",
       "      <td>10</td>\n",
       "      <td>C</td>\n",
       "    </tr>\n",
       "    <tr>\n",
       "      <th>101</th>\n",
       "      <td>20</td>\n",
       "      <td>C</td>\n",
       "    </tr>\n",
       "  </tbody>\n",
       "</table>\n",
       "</div>"
      ],
      "text/plain": [
       "     val2 val3\n",
       "n             \n",
       "100    10    C\n",
       "101    20    C"
      ]
     },
     "execution_count": 89,
     "metadata": {},
     "output_type": "execute_result"
    }
   ],
   "source": [
    "df.loc[range(100,102), ['val2','val3']]"
   ]
  },
  {
   "cell_type": "code",
   "execution_count": 91,
   "id": "04979f39",
   "metadata": {},
   "outputs": [
    {
     "data": {
      "text/html": [
       "<div>\n",
       "<style scoped>\n",
       "    .dataframe tbody tr th:only-of-type {\n",
       "        vertical-align: middle;\n",
       "    }\n",
       "\n",
       "    .dataframe tbody tr th {\n",
       "        vertical-align: top;\n",
       "    }\n",
       "\n",
       "    .dataframe thead th {\n",
       "        text-align: right;\n",
       "    }\n",
       "</style>\n",
       "<table border=\"1\" class=\"dataframe\">\n",
       "  <thead>\n",
       "    <tr style=\"text-align: right;\">\n",
       "      <th></th>\n",
       "      <th>val2</th>\n",
       "      <th>val3</th>\n",
       "    </tr>\n",
       "    <tr>\n",
       "      <th>n</th>\n",
       "      <th></th>\n",
       "      <th></th>\n",
       "    </tr>\n",
       "  </thead>\n",
       "  <tbody>\n",
       "    <tr>\n",
       "      <th>100</th>\n",
       "      <td>10</td>\n",
       "      <td>C</td>\n",
       "    </tr>\n",
       "    <tr>\n",
       "      <th>101</th>\n",
       "      <td>20</td>\n",
       "      <td>C</td>\n",
       "    </tr>\n",
       "  </tbody>\n",
       "</table>\n",
       "</div>"
      ],
      "text/plain": [
       "     val2 val3\n",
       "n             \n",
       "100    10    C\n",
       "101    20    C"
      ]
     },
     "execution_count": 91,
     "metadata": {},
     "output_type": "execute_result"
    }
   ],
   "source": [
    "df.iloc[range(2),[1,2]]"
   ]
  },
  {
   "cell_type": "markdown",
   "id": "fdb2cb5e",
   "metadata": {},
   "source": [
    "## Dealing with textual data\n",
    "There are 02 main types of data: categorical and numerical data.\n",
    "\n",
    "-numerical data: data that have float types and work with binary operators(less than, greater than, equals to).\n",
    "-Categorical data: data that take values from a finite or infinite set but doesn't work with binary operators.\n",
    "\n",
    "In addition to these data is booleans(they can be classified as categorical data), which represents the probability of a feature having an exhibit.\n",
    "\n",
    "Boolean features are often used to encode categorical features as numerical values."
   ]
  },
  {
   "cell_type": "code",
   "execution_count": null,
   "id": "86ca2811",
   "metadata": {},
   "outputs": [],
   "source": []
  }
 ],
 "metadata": {
  "kernelspec": {
   "display_name": "Python 3 (ipykernel)",
   "language": "python",
   "name": "python3"
  },
  "language_info": {
   "codemirror_mode": {
    "name": "ipython",
    "version": 3
   },
   "file_extension": ".py",
   "mimetype": "text/x-python",
   "name": "python",
   "nbconvert_exporter": "python",
   "pygments_lexer": "ipython3",
   "version": "3.11.4"
  }
 },
 "nbformat": 4,
 "nbformat_minor": 5
}
