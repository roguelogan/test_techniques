{
 "cells": [
  {
   "cell_type": "markdown",
   "id": "39e2ec4e",
   "metadata": {},
   "source": [
    "# Exercise 1: Dummy Coding\n",
    "\n",
    "Let's consider a categorical feature, the weather, which takes values in the following discrete set of values:{sunny, cloudy, snowy, rainy,foggy}. To use these value in a Machine learning project, we have to encode them from categorical data to numerical data by using booleans values 0 and 1 like in the following example:\n",
    "\n",
    "Categorical_feature = sunny  -->  binary_features = [1, 0, 0, 0, 0]\n",
    "Categorical_feature = cloudy -->  binary_features = [0, 1, 0, 0, 0]\n",
    "Categorical_feature = snowy  -->  binary_features = [0, 0, 1, 0, 0]\n",
    "Categorical_feature = rainy  -->  binary_features = [0, 0, 0, 1, 0]\n",
    "Categorical_feature = foggy  -->  binary_features = [0, 0, 0, 0, 1].\n",
    "\n",
    "This type of encoding is called one hot encoding or binary encoding.\n",
    "\n",
    "### Instructions\n",
    "Write a program with pandas allowing us to make this encoding\n",
    " on weather values.\n",
    "\n"
   ]
  },
  {
   "cell_type": "code",
   "execution_count": 7,
   "id": "bb796a0c",
   "metadata": {},
   "outputs": [
    {
     "data": {
      "text/html": [
       "<div>\n",
       "<style scoped>\n",
       "    .dataframe tbody tr th:only-of-type {\n",
       "        vertical-align: middle;\n",
       "    }\n",
       "\n",
       "    .dataframe tbody tr th {\n",
       "        vertical-align: top;\n",
       "    }\n",
       "\n",
       "    .dataframe thead th {\n",
       "        text-align: right;\n",
       "    }\n",
       "</style>\n",
       "<table border=\"1\" class=\"dataframe\">\n",
       "  <thead>\n",
       "    <tr style=\"text-align: right;\">\n",
       "      <th></th>\n",
       "      <th>cloudy</th>\n",
       "      <th>foggy</th>\n",
       "      <th>rainy</th>\n",
       "      <th>snowy</th>\n",
       "      <th>sunny</th>\n",
       "    </tr>\n",
       "  </thead>\n",
       "  <tbody>\n",
       "    <tr>\n",
       "      <th>0</th>\n",
       "      <td>False</td>\n",
       "      <td>False</td>\n",
       "      <td>False</td>\n",
       "      <td>False</td>\n",
       "      <td>True</td>\n",
       "    </tr>\n",
       "    <tr>\n",
       "      <th>1</th>\n",
       "      <td>True</td>\n",
       "      <td>False</td>\n",
       "      <td>False</td>\n",
       "      <td>False</td>\n",
       "      <td>False</td>\n",
       "    </tr>\n",
       "    <tr>\n",
       "      <th>2</th>\n",
       "      <td>False</td>\n",
       "      <td>False</td>\n",
       "      <td>False</td>\n",
       "      <td>True</td>\n",
       "      <td>False</td>\n",
       "    </tr>\n",
       "    <tr>\n",
       "      <th>3</th>\n",
       "      <td>False</td>\n",
       "      <td>False</td>\n",
       "      <td>True</td>\n",
       "      <td>False</td>\n",
       "      <td>False</td>\n",
       "    </tr>\n",
       "    <tr>\n",
       "      <th>4</th>\n",
       "      <td>False</td>\n",
       "      <td>True</td>\n",
       "      <td>False</td>\n",
       "      <td>False</td>\n",
       "      <td>False</td>\n",
       "    </tr>\n",
       "  </tbody>\n",
       "</table>\n",
       "</div>"
      ],
      "text/plain": [
       "   cloudy  foggy  rainy  snowy  sunny\n",
       "0   False  False  False  False   True\n",
       "1    True  False  False  False  False\n",
       "2   False  False  False   True  False\n",
       "3   False  False   True  False  False\n",
       "4   False   True  False  False  False"
      ]
     },
     "metadata": {},
     "output_type": "display_data"
    },
    {
     "data": {
      "text/plain": [
       "0    False\n",
       "1     True\n",
       "2    False\n",
       "3    False\n",
       "4    False\n",
       "Name: cloudy, dtype: bool"
      ]
     },
     "metadata": {},
     "output_type": "display_data"
    }
   ],
   "source": [
    "import pandas as pd\n",
    "values_set = pd.Series(['sunny',\"cloudy\",'snowy','rainy','foggy'])\n",
    "encode = pd.get_dummies(values_set)      # create a dataframe containing every levels with its encoding.\n",
    "display(encode)     # display the dataframe\n",
    "display(encode['cloudy'])"
   ]
  },
  {
   "cell_type": "code",
   "execution_count": 3,
   "id": "62fc1cb1",
   "metadata": {},
   "outputs": [
    {
     "data": {
      "text/plain": [
       "0     True\n",
       "1    False\n",
       "2    False\n",
       "3    False\n",
       "4    False\n",
       "Name: sunny, dtype: bool"
      ]
     },
     "execution_count": 3,
     "metadata": {},
     "output_type": "execute_result"
    }
   ],
   "source": [
    "encode['sunny']"
   ]
  },
  {
   "cell_type": "code",
   "execution_count": 4,
   "id": "4f5f0e5d",
   "metadata": {},
   "outputs": [
    {
     "data": {
      "text/plain": [
       "0    False\n",
       "1    False\n",
       "2     True\n",
       "3    False\n",
       "4    False\n",
       "Name: snowy, dtype: bool"
      ]
     },
     "execution_count": 4,
     "metadata": {},
     "output_type": "execute_result"
    }
   ],
   "source": [
    "encode['snowy']"
   ]
  },
  {
   "cell_type": "markdown",
   "id": "e75c5ef5",
   "metadata": {},
   "source": [
    "# Exercise 2: Dummy encoding 2\n",
    "\n",
    "Let's do the same work like in the previous exercise by using scikit learn tools instead of pandas. "
   ]
  },
  {
   "cell_type": "code",
   "execution_count": 18,
   "id": "06caa101",
   "metadata": {},
   "outputs": [
    {
     "data": {
      "text/plain": [
       "array([4, 0, 3, 2, 1])"
      ]
     },
     "metadata": {},
     "output_type": "display_data"
    },
    {
     "name": "stdout",
     "output_type": "stream",
     "text": [
      "[[0. 0. 0. 0. 1.]]\n",
      "[[1. 0. 0. 0. 0.]]\n"
     ]
    }
   ],
   "source": [
    "from sklearn.preprocessing import OneHotEncoder\n",
    "from sklearn.preprocessing import LabelEncoder\n",
    "le = LabelEncoder()\n",
    "ohe = OneHotEncoder()\n",
    "levels = ['sunny','cloudy','snowy','rainy',\"foggy\"]  # levels list\n",
    "level_indexing = le.fit_transform(levels)                   # convert all categorical values to numerical index\n",
    "display(level_indexing)\n",
    "ohe.fit([[level_indexing[0]],[level_indexing[1]],[level_indexing[2]],[level_indexing[3]],[level_indexing[4]]])\n",
    "print(ohe.transform([le.transform(['sunny'])]).toarray())\n",
    "print(ohe.transform([le.transform(['cloudy'])]).toarray())"
   ]
  },
  {
   "cell_type": "markdown",
   "id": "c65282ab",
   "metadata": {},
   "source": [
    "# Exercise 3: Textual data\n"
   ]
  },
  {
   "cell_type": "code",
   "execution_count": 22,
   "id": "7a178308",
   "metadata": {},
   "outputs": [
    {
     "data": {
      "text/plain": [
       "1"
      ]
     },
     "metadata": {},
     "output_type": "display_data"
    },
    {
     "data": {
      "text/plain": [
       "'--------------'"
      ]
     },
     "metadata": {},
     "output_type": "display_data"
    },
    {
     "data": {
      "text/plain": [
       "'From: flb@flb.optiplan.fi (\"F.Baube[tm]\")\\nSubject: Vandalizing the sky\\nX-Added: Forwarded by Space Digest\\nOrganization: [via International Space University]\\nOriginal-Sender: isu@VACATION.VENARI.CS.CMU.EDU\\nDistribution: sci\\nLines: 12\\n\\nFrom: \"Phil G. Fraering\" <pgf@srl03.cacs.usl.edu>\\n> \\n> Finally: this isn\\'t the Bronze Age, [..]\\n> please try to remember that there are more human activities than\\n> those practiced by the Warrior Caste, the Farming Caste, and the\\n> Priesthood.\\n\\nRight, the Profiting Caste is blessed by God, and may \\n freely blare its presence in the evening twilight ..\\n\\n-- \\n* Fred Baube (tm)\\n'"
      ]
     },
     "metadata": {},
     "output_type": "display_data"
    },
    {
     "data": {
      "text/plain": [
       "'----------------'"
      ]
     },
     "metadata": {},
     "output_type": "display_data"
    },
    {
     "data": {
      "text/plain": [
       "array(['/home/fabrice/scikit_learn_data/20news_home/20news-bydate-train/sci.space/61116',\n",
       "       '/home/fabrice/scikit_learn_data/20news_home/20news-bydate-train/sci.med/58122',\n",
       "       '/home/fabrice/scikit_learn_data/20news_home/20news-bydate-train/sci.med/58903',\n",
       "       ...,\n",
       "       '/home/fabrice/scikit_learn_data/20news_home/20news-bydate-train/sci.space/60774',\n",
       "       '/home/fabrice/scikit_learn_data/20news_home/20news-bydate-train/sci.space/60954',\n",
       "       '/home/fabrice/scikit_learn_data/20news_home/20news-bydate-train/sci.med/58911'],\n",
       "      dtype='<U94')"
      ]
     },
     "metadata": {},
     "output_type": "display_data"
    }
   ],
   "source": [
    "from sklearn.datasets import fetch_20newsgroups\n",
    "categories = ['sci.med', 'sci.space']\n",
    "twenty_news_groups = fetch_20newsgroups(categories = categories) \n",
    "display(twenty_news_groups.target[0])\n",
    "display(\"--------------\")\n",
    "display(twenty_news_groups.data[0])\n",
    "display(\"----------------\")\n",
    "display(twenty_news_groups.filenames)"
   ]
  },
  {
   "cell_type": "code",
   "execution_count": 24,
   "id": "d704e316",
   "metadata": {},
   "outputs": [
    {
     "name": "stdout",
     "output_type": "stream",
     "text": [
      "sci.space\n"
     ]
    }
   ],
   "source": [
    "print(twenty_news_groups.target_names[twenty_news_groups.target[0]])"
   ]
  },
  {
   "cell_type": "code",
   "execution_count": null,
   "id": "b45bcb8b",
   "metadata": {},
   "outputs": [],
   "source": []
  }
 ],
 "metadata": {
  "kernelspec": {
   "display_name": "Python 3 (ipykernel)",
   "language": "python",
   "name": "python3"
  },
  "language_info": {
   "codemirror_mode": {
    "name": "ipython",
    "version": 3
   },
   "file_extension": ".py",
   "mimetype": "text/x-python",
   "name": "python",
   "nbconvert_exporter": "python",
   "pygments_lexer": "ipython3",
   "version": "3.11.4"
  }
 },
 "nbformat": 4,
 "nbformat_minor": 5
}
